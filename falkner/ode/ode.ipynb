{
 "cells": [
  {
   "cell_type": "code",
   "execution_count": 140,
   "metadata": {},
   "outputs": [],
   "source": [
    "import torch\n",
    "import numpy as np\n",
    "import torch.optim as optim\n",
    "from torch.autograd import Variable\n",
    "from torch import randn\n",
    "import matplotlib.pyplot as plt\n",
    "import seaborn as sns\n",
    "from torch import nn\n",
    "\n",
    "import random, os\n",
    "from sklearn.metrics import mean_squared_error, mean_absolute_error\n",
    "import pandas\n",
    "\n",
    "%matplotlib inline"
   ]
  },
  {
   "cell_type": "code",
   "execution_count": 141,
   "metadata": {},
   "outputs": [],
   "source": [
    "def seed_everything(seed: int):\n",
    "    \n",
    "    random.seed(seed)\n",
    "    os.environ['PYTHONHASHSEED'] = str(seed)\n",
    "    np.random.seed(seed)\n",
    "    torch.manual_seed(seed)\n",
    "    torch.cuda.manual_seed(seed)\n",
    "    torch.backends.cudnn.deterministic = True\n",
    "    torch.backends.cudnn.benchmark = True\n",
    "    \n",
    "seed_everything(42)"
   ]
  },
  {
   "cell_type": "code",
   "execution_count": 142,
   "metadata": {},
   "outputs": [],
   "source": [
    "def dy_dx(y, x):\n",
    "  return torch.autograd.grad(y, x, grad_outputs=torch.ones_like(y), create_graph=True)[0]\n",
    "\n",
    "def d2y_dx2(y, x):\n",
    "  return dy_dx(dy_dx(y,x), x)\n",
    "\n",
    "def d3y_dx3(y, x):\n",
    "  return dy_dx(d2y_dx2(y,x), x)\n"
   ]
  },
  {
   "cell_type": "code",
   "execution_count": 143,
   "metadata": {},
   "outputs": [],
   "source": [
    "domain = [0, 6]\n",
    "n_discretization = 100 * domain[1] - domain[0]"
   ]
  },
  {
   "cell_type": "code",
   "execution_count": 144,
   "metadata": {},
   "outputs": [],
   "source": [
    "n_input = 1\n",
    "n_output = 1\n",
    "eps = 1e-10"
   ]
  },
  {
   "cell_type": "code",
   "execution_count": 145,
   "metadata": {},
   "outputs": [],
   "source": [
    "x = torch.linspace(domain[0] + eps, domain[1] - eps, n_discretization).reshape(-1,1)\n",
    "x = Variable(x, requires_grad=True).double()"
   ]
  },
  {
   "cell_type": "code",
   "execution_count": 146,
   "metadata": {},
   "outputs": [],
   "source": [
    "mlp = nn.Sequential(\n",
    "  nn.Linear(n_input, 32),\n",
    "  nn.Tanh(),\n",
    "  nn.Linear(32, 64),\n",
    "  nn.Tanh(),\n",
    "  nn.Linear(64, 128),\n",
    "  nn.Tanh(),\n",
    "  nn.Linear(128, 64),\n",
    "  nn.Tanh(),        \n",
    "  nn.Linear(64, 16),\n",
    "  nn.Linear(16, n_output)\n",
    ").double()"
   ]
  },
  {
   "cell_type": "code",
   "execution_count": 147,
   "metadata": {},
   "outputs": [],
   "source": [
    "def get_loss(x, ret_res=False):    \n",
    "  y = mlp(x)\n",
    "  y_x = dy_dx(y, x)\n",
    "  y_xx = dy_dx(y_x, x)\n",
    "  y_xxx = dy_dx(y_xx, x)\n",
    "\n",
    "\n",
    "  \"\"\"    \n",
    "  Blasius Eq.: \n",
    "   f''' + 0.5 ff'' = 0\n",
    "   2f''' + ff'' = 0   ,   f(0) = f'(0) = 0\n",
    "  \"\"\"\n",
    "  \n",
    "  residual = (2 * y_xxx) + (y_xx * y)\n",
    "\n",
    "\n",
    "  \"\"\" \n",
    "   Falkner Skan Eq.:\n",
    "   2f''' + ff'' + β(1 - (f')^2) = 0   ,   f(0) = f'(0) = 0\n",
    "  \"\"\"\n",
    "  \n",
    "  m = 0.11        # m ∈ [-0.0905, 2]\n",
    "  beta = (2 * m) / (1 + m)\n",
    "  #TODO check for various betas\n",
    "\n",
    "  # residual = 2 * y_xxx + y_xx * y + beta * (1 - y_x**2)\n",
    "\n",
    "  # boundaries same for all equations\n",
    "  boundary1 = y[0] - 0\n",
    "  boundary2 = y_x[0] - 0\n",
    "\n",
    "  loss = (residual**2).mean() + boundary1**2 + boundary2**2\n",
    "  return (loss, residual) if ret_res else loss"
   ]
  },
  {
   "cell_type": "code",
   "execution_count": 148,
   "metadata": {},
   "outputs": [],
   "source": [
    "def closure():\n",
    "  loss = get_loss(x)\n",
    "  optimizer.zero_grad()\n",
    "  loss.backward()\n",
    "  return loss"
   ]
  },
  {
   "cell_type": "code",
   "execution_count": 149,
   "metadata": {},
   "outputs": [
    {
     "name": "stdout",
     "output_type": "stream",
     "text": [
      "Step: 000 loss = 00000.0600623632\n",
      "Step: 002 loss = 00000.0535275879\n",
      "Step: 004 loss = 00000.0067000964\n",
      "Step: 006 loss = 00000.0021487124\n",
      "Step: 008 loss = 00000.0244684909\n",
      "Step: 010 loss = 00000.0075333855\n",
      "Step: 012 loss = 00000.0097266927\n",
      "Step: 014 loss = 00000.0055689885\n",
      "Step: 016 loss = 00000.0021629095\n",
      "Step: 018 loss = 00000.0017104776\n",
      "Step: 020 loss = 00000.0016264851\n",
      "Step: 022 loss = 00000.0014603752\n",
      "Step: 024 loss = 00000.0018253799\n",
      "Step: 026 loss = 00000.0012462775\n",
      "Step: 028 loss = 00000.0002779217\n",
      "Step: 030 loss = 00000.0002393344\n",
      "Step: 032 loss = 00000.0007309145\n",
      "Step: 034 loss = 00000.0005657538\n",
      "Step: 036 loss = 00000.0000970124\n",
      "Step: 038 loss = 00000.0001205874\n",
      "Step: 040 loss = 00000.0003085954\n",
      "Step: 042 loss = 00000.0001951205\n",
      "Step: 044 loss = 00000.0000158610\n",
      "Step: 046 loss = 00000.0000477584\n",
      "Step: 048 loss = 00000.0001384223\n",
      "Step: 050 loss = 00000.0001100906\n",
      "Step: 052 loss = 00000.0000329244\n",
      "Step: 054 loss = 00000.0000194737\n",
      "Step: 056 loss = 00000.0000532577\n",
      "Step: 058 loss = 00000.0000634107\n",
      "Step: 060 loss = 00000.0000366675\n",
      "Step: 062 loss = 00000.0000100898\n",
      "Step: 064 loss = 00000.0000069814\n",
      "Step: 066 loss = 00000.0000170424\n",
      "Step: 068 loss = 00000.0000215018\n",
      "Step: 070 loss = 00000.0000156069\n",
      "Step: 072 loss = 00000.0000070367\n",
      "Step: 074 loss = 00000.0000031241\n",
      "Step: 076 loss = 00000.0000044907\n",
      "Step: 078 loss = 00000.0000074125\n",
      "Step: 080 loss = 00000.0000086478\n",
      "Step: 082 loss = 00000.0000075890\n",
      "Step: 084 loss = 00000.0000054290\n",
      "Step: 086 loss = 00000.0000035362\n",
      "Step: 088 loss = 00000.0000025458\n",
      "Step: 090 loss = 00000.0000023712\n",
      "Step: 092 loss = 00000.0000026000\n",
      "Step: 094 loss = 00000.0000028588\n",
      "Step: 096 loss = 00000.0000029624\n",
      "Step: 098 loss = 00000.0000028877\n",
      "Step: 100 loss = 00000.0000026946\n",
      "Step: 102 loss = 00000.0000021963\n",
      "Step: 104 loss = 00000.0000020519\n",
      "Step: 106 loss = 00000.0000019871\n",
      "Step: 108 loss = 00000.0000019821\n",
      "Step: 110 loss = 00000.0000019802\n",
      "Step: 112 loss = 00000.0000019784\n",
      "Step: 114 loss = 00000.0000019766\n",
      "Step: 116 loss = 00000.0000019750\n",
      "Step: 118 loss = 00000.0000019734\n",
      "Step: 120 loss = 00000.0000019718\n",
      "Step: 122 loss = 00000.0000019703\n",
      "Step: 124 loss = 00000.0000019689\n",
      "Step: 126 loss = 00000.0000019675\n",
      "Step: 128 loss = 00000.0000019662\n",
      "Step: 130 loss = 00000.0000019650\n",
      "Step: 132 loss = 00000.0000019638\n",
      "Step: 134 loss = 00000.0000019626\n",
      "Step: 136 loss = 00000.0000019615\n",
      "Step: 138 loss = 00000.0000019604\n",
      "Step: 140 loss = 00000.0000019593\n",
      "Step: 142 loss = 00000.0000019583\n",
      "Step: 144 loss = 00000.0000019574\n",
      "Step: 146 loss = 00000.0000019565\n",
      "Step: 148 loss = 00000.0000019556\n",
      "Step: 150 loss = 00000.0000019547\n",
      "Step: 152 loss = 00000.0000019539\n",
      "Step: 154 loss = 00000.0000019531\n",
      "Step: 156 loss = 00000.0000019524\n",
      "Step: 158 loss = 00000.0000019516\n",
      "Step: 160 loss = 00000.0000019509\n",
      "Step: 162 loss = 00000.0000019503\n",
      "Step: 164 loss = 00000.0000019496\n",
      "Step: 166 loss = 00000.0000019490\n",
      "Step: 168 loss = 00000.0000019484\n",
      "Step: 170 loss = 00000.0000019478\n",
      "Step: 172 loss = 00000.0000019472\n",
      "Step: 174 loss = 00000.0000019467\n",
      "Step: 176 loss = 00000.0000019462\n",
      "Step: 178 loss = 00000.0000019457\n",
      "Step: 180 loss = 00000.0000019452\n",
      "Step: 182 loss = 00000.0000019448\n",
      "Step: 184 loss = 00000.0000019443\n",
      "Step: 186 loss = 00000.0000019439\n",
      "Step: 188 loss = 00000.0000019435\n",
      "Step: 190 loss = 00000.0000019431\n",
      "Step: 192 loss = 00000.0000019427\n",
      "Step: 194 loss = 00000.0000019424\n",
      "Step: 196 loss = 00000.0000019420\n",
      "Step: 198 loss = 00000.0000019417\n",
      "Step: 200 loss = 00000.0000019414\n",
      "Step: 202 loss = 00000.0000019410\n",
      "Step: 204 loss = 00000.0000019407\n",
      "Step: 206 loss = 00000.0000019404\n",
      "Step: 208 loss = 00000.0000019402\n",
      "Step: 210 loss = 00000.0000019399\n",
      "Step: 212 loss = 00000.0000019396\n",
      "Step: 214 loss = 00000.0000019394\n",
      "Step: 216 loss = 00000.0000019391\n",
      "Step: 218 loss = 00000.0000019389\n",
      "Step: 220 loss = 00000.0000019387\n",
      "Step: 222 loss = 00000.0000019385\n",
      "Step: 224 loss = 00000.0000019383\n",
      "Step: 226 loss = 00000.0000019381\n",
      "Step: 228 loss = 00000.0000019379\n",
      "Step: 230 loss = 00000.0000019377\n",
      "Step: 232 loss = 00000.0000019375\n",
      "Step: 234 loss = 00000.0000019373\n",
      "Step: 236 loss = 00000.0000019372\n",
      "Step: 238 loss = 00000.0000019370\n",
      "Step: 240 loss = 00000.0000019368\n",
      "Step: 242 loss = 00000.0000019367\n",
      "Step: 244 loss = 00000.0000019365\n",
      "Step: 246 loss = 00000.0000019364\n",
      "Step: 248 loss = 00000.0000019363\n",
      "Step: 250 loss = 00000.0000019361\n",
      "Step: 252 loss = 00000.0000019360\n",
      "Step: 254 loss = 00000.0000019359\n",
      "Step: 256 loss = 00000.0000019358\n",
      "Step: 258 loss = 00000.0000019356\n",
      "Step: 260 loss = 00000.0000019355\n",
      "Step: 262 loss = 00000.0000019354\n",
      "Step: 264 loss = 00000.0000019353\n",
      "Step: 266 loss = 00000.0000019352\n",
      "Step: 268 loss = 00000.0000019351\n",
      "converged\n",
      "Final loss = 1.94e-06\n"
     ]
    }
   ],
   "source": [
    "#TODO\n",
    "optimizer = optim.Adam(list(mlp.parameters()), lr=0.01, betas=(0.9, 0.999), eps=1e-32)\n",
    "previous = 0\n",
    "losses = []\n",
    "epoch_Adam = 100\n",
    "epoch_LBFGS = 1000\n",
    "for i in range(epoch_Adam):\n",
    "  loss = get_loss(x)\n",
    "  \n",
    "  if i % 2 == 0:        \n",
    "    print('Step: %03d loss = %016.10f' % (i, loss))        \n",
    "  \n",
    "  \n",
    "  optimizer.zero_grad()\n",
    "  loss.backward()\n",
    "  optimizer.step()\n",
    "\n",
    "  losses.append(loss.detach().numpy())\n",
    "\n",
    "\n",
    "optimizer = optim.LBFGS(list(mlp.parameters()), lr = 0.01)\n",
    "previous = 0\n",
    "for i in range(epoch_LBFGS):\n",
    "  loss = get_loss(x)\n",
    "  if i % 2 == 0:        \n",
    "    print('Step: %03d loss = %016.10f' % (i+epoch_Adam, loss))\n",
    "    if abs(previous - loss) < 1e-10:\n",
    "        print('converged')\n",
    "        break\n",
    "    \n",
    "    previous = loss\n",
    "  \n",
    "  losses.append(loss.detach().numpy())\n",
    "  optimizer.step(closure)\n",
    "\n",
    "print(\"Final loss = %.2e\" % get_loss(x))"
   ]
  },
  {
   "cell_type": "code",
   "execution_count": 150,
   "metadata": {},
   "outputs": [
    {
     "name": "stderr",
     "output_type": "stream",
     "text": [
      "The PostScript backend does not support transparency; partially transparent artists will be rendered opaque.\n"
     ]
    },
    {
     "data": {
      "image/png": "[encoded data removed]",
      "text/plain": [
       "<Figure size 720x360 with 1 Axes>"
      ]
     },
     "metadata": {
      "needs_background": "light"
     },
     "output_type": "display_data"
    }
   ],
   "source": [
    "#[TODO]\n",
    "domain = x.detach().numpy().flatten()\n",
    "exact = (1 - x**2 / 6).detach().numpy().flatten()\n",
    "predict = mlp.forward(x).detach().numpy().flatten()\n",
    "\n",
    "plt.figure(figsize=(10, 5))\n",
    "plt.xlabel('x')\n",
    "plt.ylabel('y')\n",
    "\n",
    "plt.plot(domain, exact,'k--', markersize=.1, label='Exact')\n",
    "plt.plot(domain, predict,'b.', markersize=1, label='Predict')\n",
    "plt.legend()\n",
    "\n",
    "plt.savefig('exact-predict.eps', bbox_inches='tight', format='eps')"
   ]
  },
  {
   "cell_type": "code",
   "execution_count": 151,
   "metadata": {},
   "outputs": [
    {
     "data": {
      "image/png": "[encoded data removed]",
      "text/plain": [
       "<Figure size 720x360 with 1 Axes>"
      ]
     },
     "metadata": {
      "needs_background": "light"
     },
     "output_type": "display_data"
    }
   ],
   "source": [
    "plt.figure(figsize=(10, 5))\n",
    "plt.plot(domain, exact - predict, label='residual')\n",
    "plt.xlabel('x')\n",
    "plt.ylabel('Residual')\n",
    "plt.savefig('residual-exact.eps', bbox_inches='tight', format='eps')\n"
   ]
  },
  {
   "cell_type": "code",
   "execution_count": 152,
   "metadata": {},
   "outputs": [
    {
     "data": {
      "image/png": "[encoded data removed]",
      "text/plain": [
       "<Figure size 720x360 with 1 Axes>"
      ]
     },
     "metadata": {
      "needs_background": "light"
     },
     "output_type": "display_data"
    }
   ],
   "source": [
    "plt.figure(figsize=(10, 5))\n",
    "\n",
    "res= get_loss(x, ret_res=True)[1].detach().numpy()\n",
    "plt.xlabel('x')\n",
    "plt.ylabel('Residual')\n",
    "plt.plot(domain, res)\n",
    "plt.savefig('residual-loss.eps', bbox_inches='tight', format='eps')"
   ]
  },
  {
   "cell_type": "code",
   "execution_count": 153,
   "metadata": {},
   "outputs": [
    {
     "data": {
      "image/png": "[encoded data removed]",
      "text/plain": [
       "<Figure size 720x360 with 1 Axes>"
      ]
     },
     "metadata": {
      "needs_background": "light"
     },
     "output_type": "display_data"
    }
   ],
   "source": [
    "plt.figure(figsize=(10, 5))\n",
    "plt.plot(np.log(losses))\n",
    "plt.xlabel('epoch')\n",
    "plt.ylabel('log(loss)')\n",
    "\n",
    "plt.savefig('loss.eps', bbox_inches='tight', format='eps')"
   ]
  },
  {
   "cell_type": "code",
   "execution_count": 154,
   "metadata": {},
   "outputs": [
    {
     "name": "stderr",
     "output_type": "stream",
     "text": [
      "/tmp/ipykernel_256748/1445887567.py:28: FutureWarning: In future versions `DataFrame.to_latex` is expected to utilise the base implementation of `Styler.to_latex` for formatting and rendering. The arguments signature may therefore change. It is recommended instead to use `DataFrame.style.to_latex` which also contains additional functionality.\n",
      "  print(df.to_latex(), file=open('latex_table.txt', 'w'))\n"
     ]
    },
    {
     "data": {
      "text/html": [
       "<div>\n",
       "<style scoped>\n",
       "    .dataframe tbody tr th:only-of-type {\n",
       "        vertical-align: middle;\n",
       "    }\n",
       "\n",
       "    .dataframe tbody tr th {\n",
       "        vertical-align: top;\n",
       "    }\n",
       "\n",
       "    .dataframe thead th {\n",
       "        text-align: right;\n",
       "    }\n",
       "</style>\n",
       "<table border=\"1\" class=\"dataframe\">\n",
       "  <thead>\n",
       "    <tr style=\"text-align: right;\">\n",
       "      <th></th>\n",
       "      <th>name</th>\n",
       "      <th>values</th>\n",
       "    </tr>\n",
       "  </thead>\n",
       "  <tbody>\n",
       "    <tr>\n",
       "      <th>0</th>\n",
       "      <td>mean_squared_error</td>\n",
       "      <td>4.270555</td>\n",
       "    </tr>\n",
       "    <tr>\n",
       "      <th>1</th>\n",
       "      <td>l1_norm</td>\n",
       "      <td>933.714779</td>\n",
       "    </tr>\n",
       "    <tr>\n",
       "      <th>2</th>\n",
       "      <td>l2_norm</td>\n",
       "      <td>50.619492</td>\n",
       "    </tr>\n",
       "    <tr>\n",
       "      <th>3</th>\n",
       "      <td>l_inf_norm</td>\n",
       "      <td>5.029988</td>\n",
       "    </tr>\n",
       "    <tr>\n",
       "      <th>4</th>\n",
       "      <td>relative_l2</td>\n",
       "      <td>1.006605</td>\n",
       "    </tr>\n",
       "    <tr>\n",
       "      <th>5</th>\n",
       "      <td>mean_absolute_error</td>\n",
       "      <td>1.556191</td>\n",
       "    </tr>\n",
       "  </tbody>\n",
       "</table>\n",
       "</div>"
      ],
      "text/plain": [
       "                  name      values\n",
       "0   mean_squared_error    4.270555\n",
       "1              l1_norm  933.714779\n",
       "2              l2_norm   50.619492\n",
       "3           l_inf_norm    5.029988\n",
       "4          relative_l2    1.006605\n",
       "5  mean_absolute_error    1.556191"
      ]
     },
     "execution_count": 154,
     "metadata": {},
     "output_type": "execute_result"
    }
   ],
   "source": [
    "\n",
    "def l1_norm(vector0, vector1):\n",
    "  return sum(abs(a-b) for a, b in zip(vector0, vector1))\n",
    "\n",
    "def l_inf_norm(vector0, vector1):\n",
    "  return max(abs(a-b) for a, b in zip(vector0, vector1))\n",
    "\n",
    "def l2_norm(vector0, vector1):\n",
    "  return (sum((a-b)**2 for a, b in zip(vector0, vector1))) ** .5\n",
    "\n",
    "def relative_l2(vector0, vector1):\n",
    "  return np.linalg.norm(vector0 - vector1, 2)/np.linalg.norm(vector0,2)\n",
    "\n",
    "\n",
    "measure_names = []\n",
    "measure_values = []\n",
    "for measure in [\n",
    "  mean_squared_error,\n",
    "  l1_norm,\n",
    "  l2_norm,\n",
    "  l_inf_norm,\n",
    "  relative_l2,\n",
    "  mean_absolute_error\n",
    "\n",
    "]:\n",
    "  measure_names.append(measure.__name__)\n",
    "  measure_values.append(measure(exact, predict))\n",
    "df = pandas.DataFrame(dict(name=measure_names, values=measure_values)).reset_index(drop=True)\n",
    "print(df.to_latex(), file=open('latex_table.txt', 'w'))\n",
    "df"
   ]
  },
  {
   "cell_type": "code",
   "execution_count": null,
   "metadata": {},
   "outputs": [],
   "source": []
  }
 ],
 "metadata": {
  "interpreter": {
   "hash": "e7370f93d1d0cde622a1f8e1c04877d8463912d04d973331ad4851f04de6915a"
  },
  "kernelspec": {
   "display_name": "Python 3.8.10 64-bit",
   "language": "python",
   "name": "python3"
  },
  "language_info": {
   "codemirror_mode": {
    "name": "ipython",
    "version": 3
   },
   "file_extension": ".py",
   "mimetype": "text/x-python",
   "name": "python",
   "nbconvert_exporter": "python",
   "pygments_lexer": "ipython3",
   "version": "3.8.10"
  },
  "orig_nbformat": 4
 },
 "nbformat": 4,
 "nbformat_minor": 2
}
