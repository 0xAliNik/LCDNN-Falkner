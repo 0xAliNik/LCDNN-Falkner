{
  "cells": [
    {
      "cell_type": "code",
      "source": [
        "!apt install swig\n",
        "!pip install orthnet"
      ],
      "metadata": {
        "id": "rUikrwurWg6O",
        "colab": {
          "base_uri": "https://localhost:8080/"
        },
        "outputId": "5bccc6d8-9466-4341-c30e-091979442876"
      },
      "execution_count": 1,
      "outputs": [
        {
          "output_type": "stream",
          "name": "stdout",
          "text": [
            "Reading package lists... Done\n",
            "Building dependency tree       \n",
            "Reading state information... Done\n",
            "swig is already the newest version (3.0.12-1).\n",
            "The following package was automatically installed and is no longer required:\n",
            "  libnvidia-common-460\n",
            "Use 'apt autoremove' to remove it.\n",
            "0 upgraded, 0 newly installed, 0 to remove and 62 not upgraded.\n",
            "Looking in indexes: https://pypi.org/simple, https://us-python.pkg.dev/colab-wheels/public/simple/\n",
            "Requirement already satisfied: orthnet in /usr/local/lib/python3.7/dist-packages (0.4.0)\n"
          ]
        }
      ]
    },
    {
      "cell_type": "code",
      "execution_count": 2,
      "metadata": {
        "id": "uGSiDN4bVyDe"
      },
      "outputs": [],
      "source": [
        "\n",
        "import torch\n",
        "import numpy as np\n",
        "import torch.optim as optim\n",
        "from torch.autograd import Variable\n",
        "from torch import randn\n",
        "import matplotlib.pyplot as plt\n",
        "import seaborn as sns\n",
        "from torch import nn\n",
        "\n",
        "import random, os\n",
        "from sklearn.metrics import mean_squared_error, mean_absolute_error\n",
        "import pandas as pd\n",
        "\n",
        "from orthnet import Legendre, Chebyshev\n",
        "\n",
        "%matplotlib inline\n",
        "\n",
        "GPU_MODE = True"
      ]
    },
    {
      "cell_type": "code",
      "source": [
        "if GPU_MODE:\n",
        "  cuda0 = torch.device('cuda:0')\n",
        "  print(torch.cuda.device_count(), torch.cuda.get_device_name(0))\n",
        "  torch.cuda.init()"
      ],
      "metadata": {
        "id": "Oh9WdW5ofFuc",
        "colab": {
          "base_uri": "https://localhost:8080/"
        },
        "outputId": "91e323fa-9b3a-4243-d4c3-e4a4b17482e0"
      },
      "execution_count": 3,
      "outputs": [
        {
          "output_type": "stream",
          "name": "stdout",
          "text": [
            "1 Tesla T4\n"
          ]
        }
      ]
    },
    {
      "cell_type": "code",
      "execution_count": 4,
      "metadata": {
        "id": "pFyCR5IXVyDq"
      },
      "outputs": [],
      "source": [
        "def seed_everything(seed: int):\n",
        "    random.seed(seed)\n",
        "    os.environ['PYTHONHASHSEED'] = str(seed)\n",
        "    np.random.seed(seed)\n",
        "    torch.manual_seed(seed)\n",
        "    torch.cuda.manual_seed(seed)\n",
        "    torch.backends.cudnn.deterministic = True\n",
        "    torch.backends.cudnn.benchmark = True\n",
        "    \n",
        "seed_everything(42)"
      ]
    },
    {
      "cell_type": "code",
      "execution_count": 5,
      "metadata": {
        "id": "w8taawEZVyDs"
      },
      "outputs": [],
      "source": [
        "class LegendreActivation(nn.Module):\n",
        "    def __init__(self,degree):\n",
        "        super().__init__()\n",
        "        self.degree = degree\n",
        "        self.data = None\n",
        "        \n",
        "        self.D = torch.zeros((degree , degree )) \n",
        "        for i in range(degree):\n",
        "          for j in range(0 , i):\n",
        "            if (i + j) % 2 == 1:\n",
        "              self.D[i, j] = 2 * (j + 1) - 1\n",
        "    \n",
        "    def forward(self, X):              \n",
        "      data = Legendre(X, self.degree).tensor\n",
        "      self.data = data\n",
        "      return data\n",
        "\n",
        "    def backward(self,):\n",
        "      return (self.D @ (self.data).T).T\n",
        "\n",
        "\n",
        "class LegendreBlock(nn.Module):\n",
        "    def __init__(self, n_input, degree):        \n",
        "        super().__init__()\n",
        "        self.degree = degree - 1\n",
        "        self.n_input = n_input\n",
        "        self.linear = nn.Linear(self.n_input, 1).double()\n",
        "        self.tanh = nn.Tanh().double()\n",
        "        self.Legendre = LegendreActivation(self.degree)\n",
        "\n",
        "    def forward(self, X):      \n",
        "      X = self.tanh(self.linear(X))      \n",
        "      data = self.Legendre(X)\n",
        "      return data\n",
        "\n",
        "class ChebyshevActivation(nn.Module):\n",
        "    def __init__(self,degree):\n",
        "        super().__init__()\n",
        "        self.degree = degree\n",
        "        self.data = None\n",
        "        \n",
        "        self.D = torch.zeros((degree , degree )) \n",
        "        for i in range(degree):\n",
        "          for j in range(0 ,i):\n",
        "            if (i+j) % 2 == 1:\n",
        "              self.D[i, j] = 2 * i\n",
        "              if j == 0:\n",
        "                self.D[i, j] = self.D[i, j]/2.0\n",
        "    def forward(self, X):              \n",
        "      data = Chebyshev(X, self.degree).tensor\n",
        "      self.data = data\n",
        "      return data\n",
        "\n",
        "    def backward(self,):\n",
        "      return (self.D @ (self.data).T).T\n",
        "\n",
        "class ChebyshevBlock(nn.Module):\n",
        "    def __init__(self, n_input, degree):        \n",
        "        super().__init__()\n",
        "        self.degree = degree - 1\n",
        "        \n",
        "        self.n_input = n_input\n",
        "        self.linear = nn.Linear(self.n_input, 1).double()\n",
        "        self.tanh = nn.Tanh().double()\n",
        "        self.Chebyshev = ChebyshevActivation(self.degree)\n",
        "\n",
        "\n",
        "    def forward(self, X):      \n",
        "      X = self.tanh(self.linear(X))      \n",
        "      data = self.Chebyshev(X)\n",
        "      \n",
        "      return data"
      ]
    },
    {
      "cell_type": "code",
      "execution_count": 6,
      "metadata": {
        "id": "HSCVIWphVyDw"
      },
      "outputs": [],
      "source": [
        "def dy_dx(y, x):\n",
        "  return torch.autograd.grad(y, x, grad_outputs=torch.ones_like(y), create_graph=True)[0]\n",
        "\n",
        "def d2y_dx2(y, x):\n",
        "  return dy_dx(dy_dx(y,x), x)\n",
        "\n",
        "def d3y_dx3(y, x):\n",
        "  return dy_dx(d2y_dx2(y,x), x)"
      ]
    },
    {
      "cell_type": "code",
      "execution_count": 7,
      "metadata": {
        "id": "TfdH0fFtVyDy"
      },
      "outputs": [],
      "source": [
        "domain = [0, 6]\n",
        "n_discretization = 3000 * domain[1] - domain[0]"
      ]
    },
    {
      "cell_type": "code",
      "execution_count": 8,
      "metadata": {
        "id": "uItLWMf5VyDz"
      },
      "outputs": [],
      "source": [
        "n_input = 1\n",
        "n_output = 1\n",
        "eps = 1e-10"
      ]
    },
    {
      "cell_type": "code",
      "execution_count": 9,
      "metadata": {
        "id": "7RRGAEaeVyD0"
      },
      "outputs": [],
      "source": [
        "if GPU_MODE:\n",
        "  x = torch.linspace(domain[0] + eps, domain[1] - eps, n_discretization, dtype=torch.double, device=cuda0).reshape(-1,1)\n",
        "  x = Variable(x, requires_grad=True).double()\n",
        "else:\n",
        "  x = torch.linspace(domain[0] + eps, domain[1] - eps, n_discretization, dtype=torch.double).reshape(-1,1)\n",
        "  x = Variable(x, requires_grad=True).double()"
      ]
    },
    {
      "cell_type": "code",
      "execution_count": 10,
      "metadata": {
        "id": "N0jsyeH_VyD1",
        "colab": {
          "base_uri": "https://localhost:8080/"
        },
        "outputId": "aed38bab-36f3-4948-8b0d-cdcf9c6d0e0d"
      },
      "outputs": [
        {
          "output_type": "execute_result",
          "data": {
            "text/plain": [
              "11492"
            ]
          },
          "metadata": {},
          "execution_count": 10
        }
      ],
      "source": [
        "mlp = nn.Sequential(  \n",
        "  LegendreBlock(n_input, 32),\n",
        "  nn.Linear(32, 64),\n",
        "  nn.Tanh(),\n",
        "  ChebyshevBlock(64, 128),\n",
        "  nn.Linear(128, 64),\n",
        "  nn.Tanh(),\n",
        "  nn.Linear(64, 16),\n",
        "  nn.Linear(16, n_output)\n",
        ").double()\n",
        "\n",
        "\n",
        "pytorch_total_params = sum(p.numel() for p in mlp.parameters() if p.requires_grad)\n",
        "pytorch_total_params"
      ]
    },
    {
      "cell_type": "code",
      "source": [
        "if GPU_MODE:\n",
        "  mlp.to('cuda:0')"
      ],
      "metadata": {
        "id": "5MjbANFiiS_h"
      },
      "execution_count": 11,
      "outputs": []
    },
    {
      "cell_type": "code",
      "source": [
        "# print(mlp(x))"
      ],
      "metadata": {
        "id": "BE_yNoCXzpP6"
      },
      "execution_count": 12,
      "outputs": []
    },
    {
      "cell_type": "code",
      "execution_count": 13,
      "metadata": {
        "id": "O7fJt8lWVyD3"
      },
      "outputs": [],
      "source": [
        "def get_loss(x, ret_res=False):\n",
        "  y = mlp(x)\n",
        "  y_x = dy_dx(y, x)\n",
        "  y_xx = dy_dx(y_x, x)\n",
        "  y_xxx = dy_dx(y_xx, x)\n",
        "\n",
        "\n",
        "  \"\"\"    \n",
        "  Blasius Eq.: \n",
        "   f''' + 0.5 ff'' = 0\n",
        "   2f''' + ff'' = 0   ,   f(0) = f'(0) = 0, f'(∞) = 1\n",
        "  \"\"\"\n",
        "  alpha = 0.5\n",
        "  beta = -0.18\n",
        "  # residual = (2 * y_xxx) + (y_xx * y)\n",
        "  residual = (alpha * y_xxx) + (y_xx * y) + (beta * (1 - y_x**2))\n",
        "\n",
        "\n",
        "  # boundaries same for all equations\n",
        "  boundary1 = y[0]\n",
        "  boundary2 = y_x[0]\n",
        "  boundary3 = y_x[-1] - 1\n",
        "\n",
        "  loss = (residual**2).mean() + boundary1**2 + boundary2**2 + boundary3**2\n",
        "  return (loss, residual) if ret_res else loss"
      ]
    },
    {
      "cell_type": "code",
      "execution_count": 14,
      "metadata": {
        "id": "2H9IZlCQVyD4"
      },
      "outputs": [],
      "source": [
        "def closure():\n",
        "  loss = get_loss(x)\n",
        "  optimizer.zero_grad()\n",
        "  loss.backward()\n",
        "  return loss"
      ]
    },
    {
      "cell_type": "code",
      "execution_count": 15,
      "metadata": {
        "id": "9bOqRqaiVyD5",
        "colab": {
          "base_uri": "https://localhost:8080/"
        },
        "outputId": "5d6230bc-b68d-4a15-8037-b7502aa9aabb"
      },
      "outputs": [
        {
          "output_type": "stream",
          "name": "stdout",
          "text": [
            "Step: 000 loss = 548521835.8145407438\n",
            "Step: 002 loss = 13053558.7559010778\n",
            "Step: 004 loss = 12511234.8501406647\n",
            "Step: 006 loss = 55106649.4409794286\n",
            "Step: 008 loss = 30320954.6998568028\n",
            "Step: 010 loss = 9584192.3600941617\n",
            "Step: 012 loss = 3086929.1642339067\n",
            "Step: 014 loss = 2789409.7071550996\n",
            "Step: 016 loss = 1991985.8398259343\n",
            "Step: 018 loss = 1568870.0774063377\n",
            "Step: 020 loss = 938955.6731043318\n",
            "Step: 022 loss = 503769.0405800444\n",
            "Step: 024 loss = 294368.1693576885\n",
            "Step: 026 loss = 197615.2081717460\n",
            "Step: 028 loss = 143957.5722675476\n",
            "Step: 030 loss = 109325.8939295528\n",
            "Step: 032 loss = 85346.3909430378\n",
            "Step: 034 loss = 67296.7899393375\n",
            "Step: 036 loss = 53345.5864833950\n",
            "Step: 038 loss = 42693.3615563368\n",
            "Step: 040 loss = 34723.0713270550\n",
            "Step: 042 loss = 28880.3191472862\n",
            "Step: 044 loss = 24678.8630011906\n",
            "Step: 046 loss = 21699.0478879209\n",
            "Step: 048 loss = 19585.2542291394\n",
            "Step: 050 loss = 18047.9515374271\n",
            "Step: 052 loss = 16865.8558322166\n",
            "Step: 054 loss = 15883.3860210106\n",
            "Step: 056 loss = 15002.3491785127\n",
            "Step: 058 loss = 14169.6892141523\n",
            "Step: 060 loss = 13364.0478115734\n",
            "Step: 062 loss = 12583.4456907063\n",
            "Step: 064 loss = 11835.4529979333\n",
            "Step: 066 loss = 11130.3131508920\n",
            "Step: 068 loss = 10476.8311136769\n",
            "Step: 070 loss = 09880.4693583113\n",
            "Step: 072 loss = 09342.9676743520\n",
            "Step: 074 loss = 08862.8450691392\n",
            "Step: 076 loss = 08436.2795871344\n",
            "Step: 078 loss = 08058.0313609760\n",
            "Step: 080 loss = 07722.2293717772\n",
            "Step: 082 loss = 07422.9576800853\n",
            "Step: 084 loss = 07154.6459876285\n",
            "Step: 086 loss = 06912.2997684364\n",
            "Step: 088 loss = 06691.6106805691\n",
            "Step: 090 loss = 06488.9820471180\n",
            "Step: 092 loss = 06301.4961135213\n",
            "Step: 094 loss = 06126.8436513689\n",
            "Step: 096 loss = 05963.2326263754\n",
            "Step: 098 loss = 05809.2898011383\n",
            "Step: 100 loss = 05663.9661180796\n",
            "Step: 102 loss = 01469.5742821625\n",
            "Step: 104 loss = 00678.2998376132\n",
            "Step: 106 loss = 00371.3520460924\n",
            "Step: 108 loss = 00195.4324087873\n",
            "Step: 110 loss = 00097.0290072861\n",
            "Step: 112 loss = 00043.0614817307\n",
            "Step: 114 loss = 00019.9576711739\n",
            "Step: 116 loss = 00007.1952982960\n",
            "Step: 118 loss = 00004.5139709234\n",
            "Step: 120 loss = 00003.3580235795\n",
            "Step: 122 loss = 00002.4551520095\n",
            "Step: 124 loss = 00001.6803359018\n",
            "Step: 126 loss = 00001.2253993145\n",
            "Step: 128 loss = 00001.0460287412\n",
            "Step: 130 loss = 00000.9591598181\n",
            "Step: 132 loss = 00000.8903266687\n",
            "Step: 134 loss = 00070.6830410946\n",
            "Step: 136 loss = 00016.2762448650\n",
            "Step: 138 loss = 00008.3989871360\n",
            "Step: 140 loss = 00002.5926469346\n",
            "Step: 142 loss = 00001.6683316599\n",
            "Step: 144 loss = 00001.1558636568\n",
            "Step: 146 loss = 00000.8300875366\n",
            "Step: 148 loss = 00000.4427790855\n",
            "Step: 150 loss = 00000.2145765400\n",
            "Step: 152 loss = 00000.1140782640\n",
            "Step: 154 loss = 00000.0457641702\n",
            "Step: 156 loss = 00000.0210362633\n",
            "Step: 158 loss = 00000.0106996536\n",
            "Step: 160 loss = 00000.0068423156\n",
            "Step: 162 loss = 00000.0049768045\n",
            "Step: 164 loss = 00000.0032514172\n",
            "Step: 166 loss = 00000.0023475377\n",
            "Step: 168 loss = 00000.0019062674\n",
            "Step: 170 loss = 00000.0016165284\n",
            "Step: 172 loss = 00000.0013482284\n",
            "Step: 174 loss = 00000.0011807919\n",
            "Step: 176 loss = 00000.0010921887\n",
            "Step: 178 loss = 00000.0010428374\n",
            "Step: 180 loss = 00000.0010108359\n",
            "Step: 182 loss = 00000.0009870514\n",
            "Step: 184 loss = 00000.0009624215\n",
            "Step: 186 loss = 00000.0009228403\n",
            "Step: 188 loss = 00000.0008870864\n",
            "Step: 190 loss = 00000.0008599679\n",
            "Step: 192 loss = 00000.0008409242\n",
            "Step: 194 loss = 00000.0008187166\n",
            "Step: 196 loss = 00000.0007904566\n",
            "Step: 198 loss = 00000.0007645763\n",
            "Step: 200 loss = 00000.0007459027\n",
            "Step: 202 loss = 00000.0007316623\n",
            "Step: 204 loss = 00000.0007190251\n",
            "Step: 206 loss = 00000.0007093400\n",
            "Step: 208 loss = 00000.0007028998\n",
            "Step: 210 loss = 00000.0006922364\n",
            "Step: 212 loss = 00000.0006801956\n",
            "Step: 214 loss = 00000.0006673106\n",
            "Step: 216 loss = 00000.0006557887\n",
            "Step: 218 loss = 00000.0006485740\n",
            "Step: 220 loss = 00000.0006424389\n",
            "Step: 222 loss = 00000.0006365055\n",
            "Step: 224 loss = 00000.0006300992\n",
            "Step: 226 loss = 00000.0006236170\n",
            "Step: 228 loss = 00000.0006191593\n",
            "Step: 230 loss = 00000.0006175343\n",
            "Step: 232 loss = 00000.0006165079\n",
            "Step: 234 loss = 00000.0006161284\n",
            "Step: 236 loss = 00000.0006160020\n",
            "Step: 238 loss = 00000.0006159781\n",
            "Step: 240 loss = 00000.0006159763\n",
            "Step: 242 loss = 00000.0006159746\n",
            "Step: 244 loss = 00000.0006159730\n",
            "Step: 246 loss = 00000.0006159714\n",
            "Step: 248 loss = 00000.0006159700\n",
            "Step: 250 loss = 00000.0006159686\n",
            "Step: 252 loss = 00000.0006159673\n",
            "Step: 254 loss = 00000.0006159661\n",
            "Step: 256 loss = 00000.0006159650\n",
            "Step: 258 loss = 00000.0006159639\n",
            "Step: 260 loss = 00000.0006159628\n",
            "Step: 262 loss = 00000.0006159619\n",
            "Step: 264 loss = 00000.0006159610\n",
            "Step: 266 loss = 00000.0006159601\n",
            "Step: 268 loss = 00000.0006159593\n",
            "Step: 270 loss = 00000.0006159585\n",
            "Step: 272 loss = 00000.0006159578\n",
            "Step: 274 loss = 00000.0006159571\n",
            "Step: 276 loss = 00000.0006159564\n",
            "Step: 278 loss = 00000.0006159558\n",
            "Step: 280 loss = 00000.0006159552\n",
            "Step: 282 loss = 00000.0006159547\n",
            "Step: 284 loss = 00000.0006159541\n",
            "Step: 286 loss = 00000.0006159536\n",
            "Step: 288 loss = 00000.0006159532\n",
            "Step: 290 loss = 00000.0006159527\n",
            "Step: 292 loss = 00000.0006159523\n",
            "Step: 294 loss = 00000.0006159519\n",
            "Step: 296 loss = 00000.0006159515\n",
            "Step: 298 loss = 00000.0006159511\n",
            "Step: 300 loss = 00000.0006159508\n",
            "Step: 302 loss = 00000.0006159505\n",
            "Step: 304 loss = 00000.0006159502\n",
            "Step: 306 loss = 00000.0006159499\n",
            "Step: 308 loss = 00000.0006159496\n",
            "Step: 310 loss = 00000.0006159493\n",
            "Step: 312 loss = 00000.0006159491\n",
            "Step: 314 loss = 00000.0006159488\n",
            "Step: 316 loss = 00000.0006159486\n",
            "Step: 318 loss = 00000.0006159484\n",
            "Step: 320 loss = 00000.0006159482\n",
            "Step: 322 loss = 00000.0006159480\n",
            "Step: 324 loss = 00000.0006159478\n",
            "Step: 326 loss = 00000.0006159476\n",
            "Step: 328 loss = 00000.0006159474\n",
            "Step: 330 loss = 00000.0006159473\n",
            "Step: 332 loss = 00000.0006159471\n",
            "Step: 334 loss = 00000.0006159470\n",
            "Step: 336 loss = 00000.0006159468\n",
            "Step: 338 loss = 00000.0006159467\n",
            "Step: 340 loss = 00000.0006159465\n",
            "Step: 342 loss = 00000.0006159464\n",
            "Step: 344 loss = 00000.0006159463\n",
            "Step: 346 loss = 00000.0006159462\n",
            "Step: 348 loss = 00000.0006159461\n",
            "Step: 350 loss = 00000.0006159460\n",
            "Step: 352 loss = 00000.0006159459\n",
            "Step: 354 loss = 00000.0006159458\n",
            "converged\n",
            "Final loss = 6.16e-04\n"
          ]
        }
      ],
      "source": [
        "#TODO\n",
        "optimizer = optim.Adam(list(mlp.parameters()), lr=0.015, betas=(0.9, 0.999), eps=1e-32)\n",
        "previous = 0\n",
        "losses = []\n",
        "epoch_Adam = 100\n",
        "epoch_LBFGS = 10000\n",
        "for i in range(epoch_Adam):\n",
        "  loss = get_loss(x)\n",
        "  \n",
        "  if i % 2 == 0:        \n",
        "    print('Step: %03d loss = %016.10f' % (i, loss))        \n",
        "  \n",
        "  \n",
        "  optimizer.zero_grad()\n",
        "  loss.backward()\n",
        "  optimizer.step()\n",
        "\n",
        "  losses.append(loss.detach().cpu().numpy())\n",
        "\n",
        "\n",
        "optimizer = optim.LBFGS(list(mlp.parameters()), lr = 0.015035)\n",
        "previous = 0\n",
        "for i in range(epoch_LBFGS):\n",
        "  loss = get_loss(x)\n",
        "  if i % 2 == 0:        \n",
        "    print('Step: %03d loss = %016.10f' % (i+epoch_Adam, loss))\n",
        "    if abs(previous - loss) < 1e-10:\n",
        "        print('converged')\n",
        "        break\n",
        "    \n",
        "    previous = loss\n",
        "  \n",
        "  losses.append(loss.detach().cpu().numpy())\n",
        "  optimizer.step(closure)\n",
        "\n",
        "print(\"Final loss = %.2e\" % get_loss(x))"
      ]
    },
    {
      "cell_type": "code",
      "execution_count": 21,
      "metadata": {
        "id": "CY9Z8dRKVyD6",
        "colab": {
          "base_uri": "https://localhost:8080/",
          "height": 269
        },
        "outputId": "583638c6-28a9-4ad2-f4ba-df2e993b92f8"
      },
      "outputs": [
        {
          "output_type": "execute_result",
          "data": {
            "text/plain": [
              "                   x                   y\n",
              "0 0.0000000000000000  0.0003612862458784\n",
              "1 0.1000000000000000 -0.0004634249730317\n",
              "2 0.2000000000000000 -0.0025420198663854\n",
              "3 0.5000000000000000 -0.0162110721009475\n",
              "4 1.0000000000000000 -0.0627259822449094\n",
              "5 1.5000000000000000 -0.1358333839429754\n",
              "6 2.0000000000000000 -0.2305966774931664"
            ],
            "text/html": [
              "\n",
              "  <div id=\"df-d868456e-211a-4a33-8d0a-265d55a47f36\">\n",
              "    <div class=\"colab-df-container\">\n",
              "      <div>\n",
              "<style scoped>\n",
              "    .dataframe tbody tr th:only-of-type {\n",
              "        vertical-align: middle;\n",
              "    }\n",
              "\n",
              "    .dataframe tbody tr th {\n",
              "        vertical-align: top;\n",
              "    }\n",
              "\n",
              "    .dataframe thead th {\n",
              "        text-align: right;\n",
              "    }\n",
              "</style>\n",
              "<table border=\"1\" class=\"dataframe\">\n",
              "  <thead>\n",
              "    <tr style=\"text-align: right;\">\n",
              "      <th></th>\n",
              "      <th>x</th>\n",
              "      <th>y</th>\n",
              "    </tr>\n",
              "  </thead>\n",
              "  <tbody>\n",
              "    <tr>\n",
              "      <th>0</th>\n",
              "      <td>0.0000000000000000</td>\n",
              "      <td>0.0003612862458784</td>\n",
              "    </tr>\n",
              "    <tr>\n",
              "      <th>1</th>\n",
              "      <td>0.1000000000000000</td>\n",
              "      <td>-0.0004634249730317</td>\n",
              "    </tr>\n",
              "    <tr>\n",
              "      <th>2</th>\n",
              "      <td>0.2000000000000000</td>\n",
              "      <td>-0.0025420198663854</td>\n",
              "    </tr>\n",
              "    <tr>\n",
              "      <th>3</th>\n",
              "      <td>0.5000000000000000</td>\n",
              "      <td>-0.0162110721009475</td>\n",
              "    </tr>\n",
              "    <tr>\n",
              "      <th>4</th>\n",
              "      <td>1.0000000000000000</td>\n",
              "      <td>-0.0627259822449094</td>\n",
              "    </tr>\n",
              "    <tr>\n",
              "      <th>5</th>\n",
              "      <td>1.5000000000000000</td>\n",
              "      <td>-0.1358333839429754</td>\n",
              "    </tr>\n",
              "    <tr>\n",
              "      <th>6</th>\n",
              "      <td>2.0000000000000000</td>\n",
              "      <td>-0.2305966774931664</td>\n",
              "    </tr>\n",
              "  </tbody>\n",
              "</table>\n",
              "</div>\n",
              "      <button class=\"colab-df-convert\" onclick=\"convertToInteractive('df-d868456e-211a-4a33-8d0a-265d55a47f36')\"\n",
              "              title=\"Convert this dataframe to an interactive table.\"\n",
              "              style=\"display:none;\">\n",
              "        \n",
              "  <svg xmlns=\"http://www.w3.org/2000/svg\" height=\"24px\"viewBox=\"0 0 24 24\"\n",
              "       width=\"24px\">\n",
              "    <path d=\"M0 0h24v24H0V0z\" fill=\"none\"/>\n",
              "    <path d=\"M18.56 5.44l.94 2.06.94-2.06 2.06-.94-2.06-.94-.94-2.06-.94 2.06-2.06.94zm-11 1L8.5 8.5l.94-2.06 2.06-.94-2.06-.94L8.5 2.5l-.94 2.06-2.06.94zm10 10l.94 2.06.94-2.06 2.06-.94-2.06-.94-.94-2.06-.94 2.06-2.06.94z\"/><path d=\"M17.41 7.96l-1.37-1.37c-.4-.4-.92-.59-1.43-.59-.52 0-1.04.2-1.43.59L10.3 9.45l-7.72 7.72c-.78.78-.78 2.05 0 2.83L4 21.41c.39.39.9.59 1.41.59.51 0 1.02-.2 1.41-.59l7.78-7.78 2.81-2.81c.8-.78.8-2.07 0-2.86zM5.41 20L4 18.59l7.72-7.72 1.47 1.35L5.41 20z\"/>\n",
              "  </svg>\n",
              "      </button>\n",
              "      \n",
              "  <style>\n",
              "    .colab-df-container {\n",
              "      display:flex;\n",
              "      flex-wrap:wrap;\n",
              "      gap: 12px;\n",
              "    }\n",
              "\n",
              "    .colab-df-convert {\n",
              "      background-color: #E8F0FE;\n",
              "      border: none;\n",
              "      border-radius: 50%;\n",
              "      cursor: pointer;\n",
              "      display: none;\n",
              "      fill: #1967D2;\n",
              "      height: 32px;\n",
              "      padding: 0 0 0 0;\n",
              "      width: 32px;\n",
              "    }\n",
              "\n",
              "    .colab-df-convert:hover {\n",
              "      background-color: #E2EBFA;\n",
              "      box-shadow: 0px 1px 2px rgba(60, 64, 67, 0.3), 0px 1px 3px 1px rgba(60, 64, 67, 0.15);\n",
              "      fill: #174EA6;\n",
              "    }\n",
              "\n",
              "    [theme=dark] .colab-df-convert {\n",
              "      background-color: #3B4455;\n",
              "      fill: #D2E3FC;\n",
              "    }\n",
              "\n",
              "    [theme=dark] .colab-df-convert:hover {\n",
              "      background-color: #434B5C;\n",
              "      box-shadow: 0px 1px 3px 1px rgba(0, 0, 0, 0.15);\n",
              "      filter: drop-shadow(0px 1px 2px rgba(0, 0, 0, 0.3));\n",
              "      fill: #FFFFFF;\n",
              "    }\n",
              "  </style>\n",
              "\n",
              "      <script>\n",
              "        const buttonEl =\n",
              "          document.querySelector('#df-d868456e-211a-4a33-8d0a-265d55a47f36 button.colab-df-convert');\n",
              "        buttonEl.style.display =\n",
              "          google.colab.kernel.accessAllowed ? 'block' : 'none';\n",
              "\n",
              "        async function convertToInteractive(key) {\n",
              "          const element = document.querySelector('#df-d868456e-211a-4a33-8d0a-265d55a47f36');\n",
              "          const dataTable =\n",
              "            await google.colab.kernel.invokeFunction('convertToInteractive',\n",
              "                                                     [key], {});\n",
              "          if (!dataTable) return;\n",
              "\n",
              "          const docLinkHtml = 'Like what you see? Visit the ' +\n",
              "            '<a target=\"_blank\" href=https://colab.research.google.com/notebooks/data_table.ipynb>data table notebook</a>'\n",
              "            + ' to learn more about interactive tables.';\n",
              "          element.innerHTML = '';\n",
              "          dataTable['output_type'] = 'display_data';\n",
              "          await google.colab.output.renderOutput(dataTable, element);\n",
              "          const docLink = document.createElement('div');\n",
              "          docLink.innerHTML = docLinkHtml;\n",
              "          element.appendChild(docLink);\n",
              "        }\n",
              "      </script>\n",
              "    </div>\n",
              "  </div>\n",
              "  "
            ]
          },
          "metadata": {},
          "execution_count": 21
        }
      ],
      "source": [
        "pd.options.display.float_format = '{:.16f}'.format\n",
        "domain_test = torch.tensor([0.00,0.10,0.20,0.50,1.00,1.50,2.00], dtype=torch.double).reshape(-1,1)\n",
        "predict_test = mlp.cpu().forward(domain_test).detach().numpy().flatten()\n",
        "pd.DataFrame(np.array([domain_test.numpy().flatten(), predict_test]).T, columns=['x','y'])"
      ]
    },
    {
      "cell_type": "code",
      "execution_count": 22,
      "metadata": {
        "id": "zdmgRC0AVyD6",
        "colab": {
          "base_uri": "https://localhost:8080/"
        },
        "outputId": "e1b4e2cb-63ae-48cc-b2b9-2dcf2d340a7a"
      },
      "outputs": [
        {
          "output_type": "stream",
          "name": "stdout",
          "text": [
            "f''(0) = 0.1258283131536911\n"
          ]
        }
      ],
      "source": [
        "# calculate f''(0)\n",
        "# # make zero Tensor from x Tensor\n",
        "zerox = x.cpu().clone()\n",
        "zerox[0][0] = 0\n",
        "f_xx_0 = d2y_dx2(mlp(zerox), zerox)[0]\n",
        "print(\"f''(0) = {}\".format(f_xx_0[0]))\n",
        "\n"
      ]
    },
    {
      "cell_type": "code",
      "execution_count": 18,
      "metadata": {
        "id": "Uf10PzmNVyD7",
        "colab": {
          "base_uri": "https://localhost:8080/",
          "height": 351
        },
        "outputId": "b64370d7-8c96-47c2-84d2-fb9aa07a466e"
      },
      "outputs": [
        {
          "output_type": "execute_result",
          "data": {
            "text/plain": [
              "<matplotlib.legend.Legend at 0x7f1a1585d810>"
            ]
          },
          "metadata": {},
          "execution_count": 18
        },
        {
          "output_type": "display_data",
          "data": {
            "text/plain": [
              "<Figure size 720x360 with 1 Axes>"
            ],
            "image/png": "[encoded data removed]"
          },
          "metadata": {
            "needs_background": "light"
          }
        }
      ],
      "source": [
        "#[TODO]\n",
        "domain = x.cpu().detach().numpy().flatten()\n",
        "# exact = (1 - x**2 / 6).detach().numpy().flatten()\n",
        "predict = mlp.forward(x.cpu()).detach().numpy().flatten()\n",
        "\n",
        "plt.figure(figsize=(10, 5))\n",
        "plt.xlabel('x')\n",
        "plt.ylabel('y')\n",
        "\n",
        "# plt.plot(domain, exact,'k--', markersize=.1, label='Exact')\n",
        "plt.plot(domain, predict,'b.', markersize=1, label='Predict')\n",
        "plt.legend()\n",
        "\n",
        "# plt.savefig('exact-predict.eps', bbox_inches='tight', format='eps')"
      ]
    },
    {
      "cell_type": "code",
      "execution_count": 19,
      "metadata": {
        "id": "1i9w6wQuVyD8",
        "colab": {
          "base_uri": "https://localhost:8080/",
          "height": 334
        },
        "outputId": "69fcb7b6-e87a-4db8-e672-ddbcdf14ca27"
      },
      "outputs": [
        {
          "output_type": "display_data",
          "data": {
            "text/plain": [
              "<Figure size 720x360 with 1 Axes>"
            ],
            "image/png": "[encoded data removed]"
          },
          "metadata": {
            "needs_background": "light"
          }
        }
      ],
      "source": [
        "plt.figure(figsize=(10, 5))\n",
        "\n",
        "res= get_loss(x.cpu(), ret_res=True)[1].detach().numpy()\n",
        "plt.xlabel('x')\n",
        "plt.ylabel('Residual')\n",
        "plt.plot(domain, res)\n",
        "plt.savefig('residual-loss.eps', bbox_inches='tight', format='eps')"
      ]
    },
    {
      "cell_type": "code",
      "execution_count": 20,
      "metadata": {
        "id": "A4TEZCiWVyD9",
        "colab": {
          "base_uri": "https://localhost:8080/",
          "height": 334
        },
        "outputId": "ab8f7c75-2e1e-4911-c605-55e52653de88"
      },
      "outputs": [
        {
          "output_type": "display_data",
          "data": {
            "text/plain": [
              "<Figure size 720x360 with 1 Axes>"
            ],
            "image/png": "[encoded data removed]"
          },
          "metadata": {
            "needs_background": "light"
          }
        }
      ],
      "source": [
        "plt.figure(figsize=(10, 5))\n",
        "plt.plot(np.log(losses))\n",
        "plt.xlabel('epoch')\n",
        "plt.ylabel('log(loss)')\n",
        "\n",
        "plt.savefig('loss.eps', bbox_inches='tight', format='eps')"
      ]
    },
    {
      "cell_type": "code",
      "execution_count": 20,
      "metadata": {
        "id": "dD9P9n85VyD9"
      },
      "outputs": [],
      "source": [
        ""
      ]
    }
  ],
  "metadata": {
    "interpreter": {
      "hash": "e7370f93d1d0cde622a1f8e1c04877d8463912d04d973331ad4851f04de6915a"
    },
    "kernelspec": {
      "display_name": "Python 3.8.10 64-bit",
      "language": "python",
      "name": "python3"
    },
    "language_info": {
      "codemirror_mode": {
        "name": "ipython",
        "version": 3
      },
      "file_extension": ".py",
      "mimetype": "text/x-python",
      "name": "python",
      "nbconvert_exporter": "python",
      "pygments_lexer": "ipython3",
      "version": "3.8.10"
    },
    "orig_nbformat": 4,
    "colab": {
      "name": "ode_legendre_chebyshev (1).ipynb",
      "provenance": []
    },
    "accelerator": "GPU"
  },
  "nbformat": 4,
  "nbformat_minor": 0
}
