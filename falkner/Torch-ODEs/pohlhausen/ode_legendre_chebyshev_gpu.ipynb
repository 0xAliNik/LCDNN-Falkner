{
  "cells": [
    {
      "cell_type": "code",
      "execution_count": null,
      "metadata": {
        "colab": {
          "base_uri": "https://localhost:8080/"
        },
        "id": "rUikrwurWg6O",
        "outputId": "5bccc6d8-9466-4341-c30e-091979442876"
      },
      "outputs": [],
      "source": [
        "!apt install swig\n",
        "!pip install orthnet"
      ]
    },
    {
      "cell_type": "code",
      "execution_count": 2,
      "metadata": {
        "id": "uGSiDN4bVyDe"
      },
      "outputs": [],
      "source": [
        "\n",
        "import torch\n",
        "import numpy as np\n",
        "import torch.optim as optim\n",
        "from torch.autograd import Variable\n",
        "from torch import randn\n",
        "import matplotlib.pyplot as plt\n",
        "import seaborn as sns\n",
        "from torch import nn\n",
        "\n",
        "import random, os\n",
        "from sklearn.metrics import mean_squared_error, mean_absolute_error\n",
        "import pandas as pd\n",
        "\n",
        "from orthnet import Legendre, Chebyshev\n",
        "\n",
        "%matplotlib inline\n",
        "\n",
        "GPU_MODE = True"
      ]
    },
    {
      "cell_type": "code",
      "execution_count": 3,
      "metadata": {
        "colab": {
          "base_uri": "https://localhost:8080/"
        },
        "id": "Oh9WdW5ofFuc",
        "outputId": "91e323fa-9b3a-4243-d4c3-e4a4b17482e0"
      },
      "outputs": [
        {
          "name": "stdout",
          "output_type": "stream",
          "text": [
            "1 NVIDIA GeForce GTX 1070\n"
          ]
        }
      ],
      "source": [
        "if GPU_MODE:\n",
        "  cuda0 = torch.device('cuda:0')\n",
        "  print(torch.cuda.device_count(), torch.cuda.get_device_name(0))\n",
        "  torch.cuda.init()"
      ]
    },
    {
      "cell_type": "code",
      "execution_count": 4,
      "metadata": {
        "id": "pFyCR5IXVyDq"
      },
      "outputs": [],
      "source": [
        "def seed_everything(seed: int):\n",
        "    random.seed(seed)\n",
        "    os.environ['PYTHONHASHSEED'] = str(seed)\n",
        "    np.random.seed(seed)\n",
        "    torch.manual_seed(seed)\n",
        "    torch.cuda.manual_seed(seed)\n",
        "    torch.backends.cudnn.deterministic = True\n",
        "    torch.backends.cudnn.benchmark = True\n",
        "    \n",
        "seed_everything(42)"
      ]
    },
    {
      "cell_type": "code",
      "execution_count": 5,
      "metadata": {
        "id": "w8taawEZVyDs"
      },
      "outputs": [],
      "source": [
        "class LegendreActivation(nn.Module):\n",
        "    def __init__(self,degree):\n",
        "        super().__init__()\n",
        "        self.degree = degree\n",
        "        self.data = None\n",
        "        \n",
        "        self.D = torch.zeros((degree , degree )) \n",
        "        for i in range(degree):\n",
        "          for j in range(0 , i):\n",
        "            if (i + j) % 2 == 1:\n",
        "              self.D[i, j] = 2 * (j + 1) - 1\n",
        "    \n",
        "    def forward(self, X):              \n",
        "      data = Legendre(X, self.degree).tensor\n",
        "      self.data = data\n",
        "      return data\n",
        "\n",
        "    def backward(self,):\n",
        "      return (self.D @ (self.data).T).T\n",
        "\n",
        "\n",
        "class LegendreBlock(nn.Module):\n",
        "    def __init__(self, n_input, degree):        \n",
        "        super().__init__()\n",
        "        self.degree = degree - 1\n",
        "        self.n_input = n_input\n",
        "        self.linear = nn.Linear(self.n_input, 1).double()\n",
        "        self.tanh = nn.Tanh().double()\n",
        "        self.Legendre = LegendreActivation(self.degree)\n",
        "\n",
        "    def forward(self, X):      \n",
        "      X = self.tanh(self.linear(X))      \n",
        "      data = self.Legendre(X)\n",
        "      return data\n",
        "\n",
        "class ChebyshevActivation(nn.Module):\n",
        "    def __init__(self,degree):\n",
        "        super().__init__()\n",
        "        self.degree = degree\n",
        "        self.data = None\n",
        "        \n",
        "        self.D = torch.zeros((degree , degree )) \n",
        "        for i in range(degree):\n",
        "          for j in range(0 ,i):\n",
        "            if (i+j) % 2 == 1:\n",
        "              self.D[i, j] = 2 * i\n",
        "              if j == 0:\n",
        "                self.D[i, j] = self.D[i, j]/2.0\n",
        "    def forward(self, X):              \n",
        "      data = Chebyshev(X, self.degree).tensor\n",
        "      self.data = data\n",
        "      return data\n",
        "\n",
        "    def backward(self,):\n",
        "      return (self.D @ (self.data).T).T\n",
        "\n",
        "class ChebyshevBlock(nn.Module):\n",
        "    def __init__(self, n_input, degree):        \n",
        "        super().__init__()\n",
        "        self.degree = degree - 1\n",
        "        \n",
        "        self.n_input = n_input\n",
        "        self.linear = nn.Linear(self.n_input, 1).double()\n",
        "        self.tanh = nn.Tanh().double()\n",
        "        self.Chebyshev = ChebyshevActivation(self.degree)\n",
        "\n",
        "\n",
        "    def forward(self, X):      \n",
        "      X = self.tanh(self.linear(X))      \n",
        "      data = self.Chebyshev(X)\n",
        "      \n",
        "      return data"
      ]
    },
    {
      "cell_type": "code",
      "execution_count": 6,
      "metadata": {
        "id": "HSCVIWphVyDw"
      },
      "outputs": [],
      "source": [
        "def dy_dx(y, x):\n",
        "  return torch.autograd.grad(y, x, grad_outputs=torch.ones_like(y), create_graph=True)[0]\n",
        "\n",
        "def d2y_dx2(y, x):\n",
        "  return dy_dx(dy_dx(y,x), x)\n",
        "\n",
        "def d3y_dx3(y, x):\n",
        "  return dy_dx(d2y_dx2(y,x), x)"
      ]
    },
    {
      "cell_type": "code",
      "execution_count": 7,
      "metadata": {
        "id": "TfdH0fFtVyDy"
      },
      "outputs": [],
      "source": [
        "domain = [0, 6]\n",
        "n_discretization = 3000 * domain[1] - domain[0]"
      ]
    },
    {
      "cell_type": "code",
      "execution_count": 8,
      "metadata": {
        "id": "uItLWMf5VyDz"
      },
      "outputs": [],
      "source": [
        "n_input = 1\n",
        "n_output = 1\n",
        "eps = 1e-10"
      ]
    },
    {
      "cell_type": "code",
      "execution_count": 9,
      "metadata": {
        "id": "7RRGAEaeVyD0"
      },
      "outputs": [],
      "source": [
        "if GPU_MODE:\n",
        "  x = torch.linspace(domain[0] + eps, domain[1] - eps, n_discretization, dtype=torch.double, device=cuda0).reshape(-1,1)\n",
        "  x = Variable(x, requires_grad=True).double()\n",
        "else:\n",
        "  x = torch.linspace(domain[0] + eps, domain[1] - eps, n_discretization, dtype=torch.double).reshape(-1,1)\n",
        "  x = Variable(x, requires_grad=True).double()"
      ]
    },
    {
      "cell_type": "code",
      "execution_count": 11,
      "metadata": {
        "colab": {
          "base_uri": "https://localhost:8080/"
        },
        "id": "N0jsyeH_VyD1",
        "outputId": "aed38bab-36f3-4948-8b0d-cdcf9c6d0e0d"
      },
      "outputs": [
        {
          "data": {
            "text/plain": [
              "25"
            ]
          },
          "execution_count": 11,
          "metadata": {},
          "output_type": "execute_result"
        }
      ],
      "source": [
        "mlp = nn.Sequential(  \n",
        "  LegendreBlock(n_input, 16),\n",
        "  ChebyshevBlock(16, 5),\n",
        "  nn.Linear(5, n_output)\n",
        ").double()\n",
        "\n",
        "\n",
        "pytorch_total_params = sum(p.numel() for p in mlp.parameters() if p.requires_grad)\n",
        "pytorch_total_params"
      ]
    },
    {
      "cell_type": "code",
      "execution_count": 12,
      "metadata": {
        "id": "5MjbANFiiS_h"
      },
      "outputs": [],
      "source": [
        "if GPU_MODE:\n",
        "  mlp.to('cuda:0')"
      ]
    },
    {
      "cell_type": "code",
      "execution_count": 13,
      "metadata": {
        "id": "O7fJt8lWVyD3"
      },
      "outputs": [],
      "source": [
        "def get_loss(x, ret_res=False):\n",
        "  y = mlp(x)\n",
        "  y_x = dy_dx(y, x)\n",
        "  y_xx = dy_dx(y_x, x)\n",
        "  y_xxx = dy_dx(y_xx, x)\n",
        "\n",
        "\n",
        "  \"\"\"    \n",
        "  Generall Falkner-Skan Eq.: \n",
        "    f''' + α ff'' + β(1 - (f')^2) = 0 ,\n",
        "    f(0) = f'(0) = 0, f'(∞) = 1\n",
        "  \n",
        "  Pohlhausen Flow = (α, β) = (0, 1)  \n",
        "  \"\"\"\n",
        "  alpha = 0\n",
        "  beta = 1\n",
        "\n",
        "  residual = (y_xxx) + (alpha * y_xx * y) + (beta * (1 - y_x**2))\n",
        "\n",
        "\n",
        "  # boundaries same for all equations\n",
        "  boundary1 = y[0]\n",
        "  boundary2 = y_x[0]\n",
        "  boundary3 = y_x[-1] - 1\n",
        "\n",
        "  loss = (residual**2).mean() + boundary1**2 + boundary2**2 + boundary3**2\n",
        "  return (loss, residual) if ret_res else loss"
      ]
    },
    {
      "cell_type": "code",
      "execution_count": 14,
      "metadata": {
        "id": "2H9IZlCQVyD4"
      },
      "outputs": [],
      "source": [
        "def closure():\n",
        "  loss = get_loss(x)\n",
        "  optimizer.zero_grad()\n",
        "  loss.backward()\n",
        "  return loss"
      ]
    },
    {
      "cell_type": "code",
      "execution_count": 17,
      "metadata": {
        "colab": {
          "base_uri": "https://localhost:8080/"
        },
        "id": "9bOqRqaiVyD5",
        "outputId": "5d6230bc-b68d-4a15-8037-b7502aa9aabb"
      },
      "outputs": [
        {
          "name": "stdout",
          "output_type": "stream",
          "text": [
            "Step: 000 loss = 00000.0000068534\n",
            "Step: 002 loss = 00000.0442246897\n",
            "Step: 004 loss = 00000.2750316651\n",
            "Step: 006 loss = 00000.2612009791\n",
            "Step: 008 loss = 00000.0758928055\n",
            "Step: 010 loss = 00000.0786317183\n",
            "Step: 012 loss = 00000.1198532458\n",
            "Step: 014 loss = 00000.0418960139\n",
            "Step: 016 loss = 00000.0433891284\n",
            "Step: 018 loss = 00000.0526656204\n",
            "Step: 020 loss = 00000.0338108630\n",
            "Step: 022 loss = 00000.0283543610\n",
            "Step: 024 loss = 00000.0192619806\n",
            "Step: 026 loss = 00000.0136371994\n",
            "Step: 028 loss = 00000.0226689838\n",
            "Step: 030 loss = 00000.0100218073\n",
            "Step: 032 loss = 00000.0048131323\n",
            "Step: 034 loss = 00000.0137565984\n",
            "Step: 036 loss = 00000.0071342709\n",
            "Step: 038 loss = 00000.0008130230\n",
            "Step: 040 loss = 00000.0068810621\n",
            "Step: 042 loss = 00000.0051846865\n",
            "Step: 044 loss = 00000.0009811861\n",
            "Step: 046 loss = 00000.0030364989\n",
            "Step: 048 loss = 00000.0026380256\n",
            "Step: 050 loss = 00000.0012668378\n",
            "Step: 052 loss = 00000.0010408723\n",
            "Step: 054 loss = 00000.0013458786\n",
            "Step: 056 loss = 00000.0011919974\n",
            "Step: 058 loss = 00000.0003013069\n",
            "Step: 060 loss = 00000.0008513803\n",
            "Step: 062 loss = 00000.0006550549\n",
            "Step: 064 loss = 00000.0000937967\n",
            "Step: 066 loss = 00000.0005427559\n",
            "Step: 068 loss = 00000.0003134718\n",
            "Step: 070 loss = 00000.0001131586\n",
            "Step: 072 loss = 00000.0002920758\n",
            "Step: 074 loss = 00000.0001513055\n",
            "Step: 076 loss = 00000.0001087475\n",
            "Step: 078 loss = 00000.0001319515\n",
            "Step: 080 loss = 00000.0001131434\n",
            "Step: 082 loss = 00000.0000513368\n",
            "Step: 084 loss = 00000.0000877985\n",
            "Step: 086 loss = 00000.0000689381\n",
            "Step: 088 loss = 00000.0000278422\n",
            "Step: 090 loss = 00000.0000667570\n",
            "Step: 092 loss = 00000.0000269837\n",
            "Step: 094 loss = 00000.0000353184\n",
            "Step: 096 loss = 00000.0000365625\n",
            "Step: 098 loss = 00000.0000230695\n",
            "Step: 100 loss = 00000.0000253017\n",
            "Step: 102 loss = 00000.0001117416\n",
            "Step: 104 loss = 00000.0000580953\n",
            "Step: 106 loss = 00000.0000336668\n",
            "Step: 108 loss = 00000.0000224309\n",
            "Step: 110 loss = 00000.0000171199\n",
            "Step: 112 loss = 00000.0000143902\n",
            "Step: 114 loss = 00000.0000125890\n",
            "Step: 116 loss = 00000.0000106862\n",
            "Step: 118 loss = 00000.0000087119\n",
            "Step: 120 loss = 00000.0000077817\n",
            "Step: 122 loss = 00000.0000073612\n",
            "Step: 124 loss = 00000.0000071739\n",
            "Step: 126 loss = 00000.0000070904\n",
            "Step: 128 loss = 00000.0000070708\n",
            "Step: 130 loss = 00000.0000070689\n",
            "Step: 132 loss = 00000.0000070671\n",
            "Step: 134 loss = 00000.0000070653\n",
            "Step: 136 loss = 00000.0000070637\n",
            "Step: 138 loss = 00000.0000070621\n",
            "Step: 140 loss = 00000.0000070605\n",
            "Step: 142 loss = 00000.0000070590\n",
            "Step: 144 loss = 00000.0000070576\n",
            "Step: 146 loss = 00000.0000070562\n",
            "Step: 148 loss = 00000.0000070549\n",
            "Step: 150 loss = 00000.0000070536\n",
            "Step: 152 loss = 00000.0000070524\n",
            "Step: 154 loss = 00000.0000070512\n",
            "Step: 156 loss = 00000.0000070501\n",
            "Step: 158 loss = 00000.0000070490\n",
            "Step: 160 loss = 00000.0000070480\n",
            "Step: 162 loss = 00000.0000070470\n",
            "Step: 164 loss = 00000.0000070460\n",
            "Step: 166 loss = 00000.0000070451\n",
            "Step: 168 loss = 00000.0000070442\n",
            "Step: 170 loss = 00000.0000070434\n",
            "Step: 172 loss = 00000.0000070426\n",
            "Step: 174 loss = 00000.0000070418\n",
            "Step: 176 loss = 00000.0000070410\n",
            "Step: 178 loss = 00000.0000070403\n",
            "Step: 180 loss = 00000.0000070396\n",
            "Step: 182 loss = 00000.0000070389\n",
            "Step: 184 loss = 00000.0000070383\n",
            "Step: 186 loss = 00000.0000070377\n",
            "Step: 188 loss = 00000.0000070371\n",
            "Step: 190 loss = 00000.0000070365\n",
            "Step: 192 loss = 00000.0000070360\n",
            "Step: 194 loss = 00000.0000070355\n",
            "Step: 196 loss = 00000.0000070349\n",
            "Step: 198 loss = 00000.0000070345\n",
            "Step: 200 loss = 00000.0000070340\n",
            "Step: 202 loss = 00000.0000070335\n",
            "Step: 204 loss = 00000.0000070331\n",
            "Step: 206 loss = 00000.0000070327\n",
            "Step: 208 loss = 00000.0000070323\n",
            "Step: 210 loss = 00000.0000070319\n",
            "Step: 212 loss = 00000.0000070315\n",
            "Step: 214 loss = 00000.0000070312\n",
            "Step: 216 loss = 00000.0000070309\n",
            "Step: 218 loss = 00000.0000070305\n",
            "Step: 220 loss = 00000.0000070302\n",
            "Step: 222 loss = 00000.0000070299\n",
            "Step: 224 loss = 00000.0000070296\n",
            "Step: 226 loss = 00000.0000070293\n",
            "Step: 228 loss = 00000.0000070291\n",
            "Step: 230 loss = 00000.0000070288\n",
            "Step: 232 loss = 00000.0000070286\n",
            "Step: 234 loss = 00000.0000070283\n",
            "Step: 236 loss = 00000.0000070281\n",
            "Step: 238 loss = 00000.0000070279\n",
            "Step: 240 loss = 00000.0000070277\n",
            "Step: 242 loss = 00000.0000070275\n",
            "Step: 244 loss = 00000.0000070273\n",
            "Step: 246 loss = 00000.0000070271\n",
            "Step: 248 loss = 00000.0000070269\n",
            "Step: 250 loss = 00000.0000070267\n",
            "Step: 252 loss = 00000.0000070266\n",
            "Step: 254 loss = 00000.0000070264\n",
            "Step: 256 loss = 00000.0000070262\n",
            "Step: 258 loss = 00000.0000070261\n",
            "Step: 260 loss = 00000.0000070260\n",
            "Step: 262 loss = 00000.0000070258\n",
            "Step: 264 loss = 00000.0000070257\n",
            "Step: 266 loss = 00000.0000070256\n",
            "Step: 268 loss = 00000.0000070254\n",
            "Step: 270 loss = 00000.0000070253\n",
            "Step: 272 loss = 00000.0000070252\n",
            "Step: 274 loss = 00000.0000070251\n",
            "Step: 276 loss = 00000.0000070250\n",
            "Step: 278 loss = 00000.0000070249\n",
            "Step: 280 loss = 00000.0000070248\n",
            "converged\n",
            "Final loss = 7.02e-06\n"
          ]
        }
      ],
      "source": [
        "#TODO\n",
        "optimizer = optim.Adam(list(mlp.parameters()), lr=0.01, betas=(0.9, 0.999), eps=1e-32)\n",
        "previous = 0\n",
        "losses = []\n",
        "epoch_Adam = 100\n",
        "epoch_LBFGS = 10000\n",
        "for i in range(epoch_Adam):\n",
        "  loss = get_loss(x)\n",
        "  \n",
        "  if i % 2 == 0:        \n",
        "    print('Step: %03d loss = %016.10f' % (i, loss))        \n",
        "  \n",
        "  \n",
        "  optimizer.zero_grad()\n",
        "  loss.backward()\n",
        "  optimizer.step()\n",
        "\n",
        "  losses.append(loss.detach().cpu().numpy())\n",
        "\n",
        "\n",
        "optimizer = optim.LBFGS(list(mlp.parameters()), lr = 0.01)\n",
        "previous = 0\n",
        "for i in range(epoch_LBFGS):\n",
        "  loss = get_loss(x)\n",
        "  if i % 2 == 0:        \n",
        "    print('Step: %03d loss = %016.10f' % (i+epoch_Adam, loss))\n",
        "    if abs(previous - loss) < 1e-10:\n",
        "        print('converged')\n",
        "        break\n",
        "    \n",
        "    previous = loss\n",
        "  \n",
        "  losses.append(loss.detach().cpu().numpy())\n",
        "  optimizer.step(closure)\n",
        "\n",
        "print(\"Final loss = %.2e\" % get_loss(x))"
      ]
    },
    {
      "cell_type": "code",
      "execution_count": 19,
      "metadata": {
        "colab": {
          "base_uri": "https://localhost:8080/"
        },
        "id": "zdmgRC0AVyD6",
        "outputId": "e1b4e2cb-63ae-48cc-b2b9-2dcf2d340a7a"
      },
      "outputs": [
        {
          "name": "stdout",
          "output_type": "stream",
          "text": [
            "f''(0) = 1.1547091770274447\n"
          ]
        }
      ],
      "source": [
        "# calculate f''(0)\n",
        "# # make zero Tensor from x Tensor\n",
        "zerox = x.clone()\n",
        "zerox[0][0] = 0\n",
        "f_xx_0 = d2y_dx2(mlp(zerox), zerox)[0]\n",
        "print(\"f''(0) = {}\".format(f_xx_0[0]))\n",
        "\n",
        "\n",
        "#  Exact = 1.154701"
      ]
    },
    {
      "cell_type": "code",
      "execution_count": 20,
      "metadata": {
        "colab": {
          "base_uri": "https://localhost:8080/",
          "height": 334
        },
        "id": "1i9w6wQuVyD8",
        "outputId": "69fcb7b6-e87a-4db8-e672-ddbcdf14ca27"
      },
      "outputs": [
        {
          "data": {
            "image/png": "[encoded data removed]",
            "text/plain": [
              "<Figure size 720x360 with 1 Axes>"
            ]
          },
          "metadata": {
            "needs_background": "light"
          },
          "output_type": "display_data"
        }
      ],
      "source": [
        "mlp.to('cpu')\n",
        "plt.figure(figsize=(10, 5))\n",
        "domain = x.cpu().detach().numpy().flatten()\n",
        "\n",
        "res= get_loss(x.cpu(), ret_res=True)[1].detach().numpy()\n",
        "plt.xlabel('x')\n",
        "plt.ylabel('Residual')\n",
        "plt.plot(domain, res)\n",
        "plt.savefig('residual-loss.eps', bbox_inches='tight', format='eps')"
      ]
    },
    {
      "cell_type": "code",
      "execution_count": 21,
      "metadata": {
        "colab": {
          "base_uri": "https://localhost:8080/",
          "height": 334
        },
        "id": "A4TEZCiWVyD9",
        "outputId": "ab8f7c75-2e1e-4911-c605-55e52653de88"
      },
      "outputs": [
        {
          "data": {
            "image/png": "[encoded data removed]",
            "text/plain": [
              "<Figure size 720x360 with 1 Axes>"
            ]
          },
          "metadata": {
            "needs_background": "light"
          },
          "output_type": "display_data"
        }
      ],
      "source": [
        "plt.figure(figsize=(10, 5))\n",
        "plt.plot(np.log(losses))\n",
        "plt.xlabel('epoch')\n",
        "plt.ylabel('log(loss)')\n",
        "\n",
        "plt.savefig('loss.eps', bbox_inches='tight', format='eps')"
      ]
    },
    {
      "cell_type": "code",
      "execution_count": null,
      "metadata": {},
      "outputs": [],
      "source": []
    }
  ],
  "metadata": {
    "accelerator": "GPU",
    "colab": {
      "name": "ode_legendre_chebyshev (1).ipynb",
      "provenance": []
    },
    "kernelspec": {
      "display_name": "Python 3.10.6 ('venv': venv)",
      "language": "python",
      "name": "python3"
    },
    "language_info": {
      "codemirror_mode": {
        "name": "ipython",
        "version": 3
      },
      "file_extension": ".py",
      "mimetype": "text/x-python",
      "name": "python",
      "nbconvert_exporter": "python",
      "pygments_lexer": "ipython3",
      "version": "3.10.6"
    },
    "orig_nbformat": 4,
    "vscode": {
      "interpreter": {
        "hash": "8c6a7a98d988520ca49873c8c8a84fc603de93e0e51e3f6cf3504553200cd803"
      }
    }
  },
  "nbformat": 4,
  "nbformat_minor": 0
}
