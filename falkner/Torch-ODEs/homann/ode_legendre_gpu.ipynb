{
  "cells": [
    {
      "cell_type": "code",
      "execution_count": null,
      "metadata": {
        "colab": {
          "base_uri": "https://localhost:8080/"
        },
        "id": "rUikrwurWg6O",
        "outputId": "5bccc6d8-9466-4341-c30e-091979442876"
      },
      "outputs": [],
      "source": [
        "!apt install swig\n",
        "!pip install orthnet"
      ]
    },
    {
      "cell_type": "code",
      "execution_count": 1,
      "metadata": {
        "id": "uGSiDN4bVyDe"
      },
      "outputs": [],
      "source": [
        "\n",
        "import torch\n",
        "import numpy as np\n",
        "import torch.optim as optim\n",
        "from torch.autograd import Variable\n",
        "from torch import randn\n",
        "import matplotlib.pyplot as plt\n",
        "import seaborn as sns\n",
        "from torch import nn\n",
        "\n",
        "import random, os\n",
        "from sklearn.metrics import mean_squared_error, mean_absolute_error\n",
        "import pandas as pd\n",
        "\n",
        "from orthnet import Legendre, Chebyshev\n",
        "\n",
        "%matplotlib inline\n",
        "\n",
        "GPU_MODE = True"
      ]
    },
    {
      "cell_type": "code",
      "execution_count": 2,
      "metadata": {
        "colab": {
          "base_uri": "https://localhost:8080/"
        },
        "id": "Oh9WdW5ofFuc",
        "outputId": "91e323fa-9b3a-4243-d4c3-e4a4b17482e0"
      },
      "outputs": [
        {
          "name": "stdout",
          "output_type": "stream",
          "text": [
            "1 NVIDIA GeForce GTX 1070\n"
          ]
        }
      ],
      "source": [
        "if GPU_MODE:\n",
        "  cuda0 = torch.device('cuda:0')\n",
        "  print(torch.cuda.device_count(), torch.cuda.get_device_name(0))\n",
        "  torch.cuda.init()"
      ]
    },
    {
      "cell_type": "code",
      "execution_count": 3,
      "metadata": {
        "id": "pFyCR5IXVyDq"
      },
      "outputs": [],
      "source": [
        "def seed_everything(seed: int):\n",
        "    random.seed(seed)\n",
        "    os.environ['PYTHONHASHSEED'] = str(seed)\n",
        "    np.random.seed(seed)\n",
        "    torch.manual_seed(seed)\n",
        "    torch.cuda.manual_seed(seed)\n",
        "    torch.backends.cudnn.deterministic = True\n",
        "    torch.backends.cudnn.benchmark = True\n",
        "    \n",
        "seed_everything(42)"
      ]
    },
    {
      "cell_type": "code",
      "execution_count": 4,
      "metadata": {
        "id": "w8taawEZVyDs"
      },
      "outputs": [],
      "source": [
        "class LegendreActivation(nn.Module):\n",
        "    def __init__(self,degree):\n",
        "        super().__init__()\n",
        "        self.degree = degree\n",
        "        self.data = None\n",
        "        \n",
        "        self.D = torch.zeros((degree , degree )) \n",
        "        for i in range(degree):\n",
        "          for j in range(0 , i):\n",
        "            if (i + j) % 2 == 1:\n",
        "              self.D[i, j] = 2 * (j + 1) - 1\n",
        "    \n",
        "    def forward(self, X):              \n",
        "      data = Legendre(X, self.degree).tensor\n",
        "      self.data = data\n",
        "      return data\n",
        "\n",
        "    def backward(self,):\n",
        "      return (self.D @ (self.data).T).T\n",
        "\n",
        "\n",
        "class LegendreBlock(nn.Module):\n",
        "    def __init__(self, n_input, degree):        \n",
        "        super().__init__()\n",
        "        self.degree = degree - 1\n",
        "        self.n_input = n_input\n",
        "        self.linear = nn.Linear(self.n_input, 1).double()\n",
        "        self.tanh = nn.Tanh().double()\n",
        "        self.Legendre = LegendreActivation(self.degree)\n",
        "\n",
        "    def forward(self, X):      \n",
        "      X = self.tanh(self.linear(X))      \n",
        "      data = self.Legendre(X)\n",
        "      return data\n",
        "\n",
        "class ChebyshevActivation(nn.Module):\n",
        "    def __init__(self,degree):\n",
        "        super().__init__()\n",
        "        self.degree = degree\n",
        "        self.data = None\n",
        "        \n",
        "        self.D = torch.zeros((degree , degree )) \n",
        "        for i in range(degree):\n",
        "          for j in range(0 ,i):\n",
        "            if (i+j) % 2 == 1:\n",
        "              self.D[i, j] = 2 * i\n",
        "              if j == 0:\n",
        "                self.D[i, j] = self.D[i, j]/2.0\n",
        "    def forward(self, X):              \n",
        "      data = Chebyshev(X, self.degree).tensor\n",
        "      self.data = data\n",
        "      return data\n",
        "\n",
        "    def backward(self,):\n",
        "      return (self.D @ (self.data).T).T\n",
        "\n",
        "class ChebyshevBlock(nn.Module):\n",
        "    def __init__(self, n_input, degree):        \n",
        "        super().__init__()\n",
        "        self.degree = degree - 1\n",
        "        \n",
        "        self.n_input = n_input\n",
        "        self.linear = nn.Linear(self.n_input, 1).double()\n",
        "        self.tanh = nn.Tanh().double()\n",
        "        self.Chebyshev = ChebyshevActivation(self.degree)\n",
        "\n",
        "\n",
        "    def forward(self, X):      \n",
        "      X = self.tanh(self.linear(X))      \n",
        "      data = self.Chebyshev(X)\n",
        "      \n",
        "      return data"
      ]
    },
    {
      "cell_type": "code",
      "execution_count": 5,
      "metadata": {
        "id": "HSCVIWphVyDw"
      },
      "outputs": [],
      "source": [
        "def dy_dx(y, x):\n",
        "  return torch.autograd.grad(y, x, grad_outputs=torch.ones_like(y), create_graph=True)[0]\n",
        "\n",
        "def d2y_dx2(y, x):\n",
        "  return dy_dx(dy_dx(y,x), x)\n",
        "\n",
        "def d3y_dx3(y, x):\n",
        "  return dy_dx(d2y_dx2(y,x), x)"
      ]
    },
    {
      "cell_type": "code",
      "execution_count": 6,
      "metadata": {
        "id": "TfdH0fFtVyDy"
      },
      "outputs": [],
      "source": [
        "domain = [0, 6]\n",
        "n_discretization = 3000 * domain[1] - domain[0]"
      ]
    },
    {
      "cell_type": "code",
      "execution_count": 7,
      "metadata": {
        "id": "uItLWMf5VyDz"
      },
      "outputs": [],
      "source": [
        "n_input = 1\n",
        "n_output = 1\n",
        "eps = 1e-10"
      ]
    },
    {
      "cell_type": "code",
      "execution_count": 8,
      "metadata": {
        "id": "7RRGAEaeVyD0"
      },
      "outputs": [],
      "source": [
        "if GPU_MODE:\n",
        "  x = torch.linspace(domain[0] + eps, domain[1] - eps, n_discretization, dtype=torch.double, device=cuda0).reshape(-1,1)\n",
        "  x = Variable(x, requires_grad=True).double()\n",
        "else:\n",
        "  x = torch.linspace(domain[0] + eps, domain[1] - eps, n_discretization, dtype=torch.double).reshape(-1,1)\n",
        "  x = Variable(x, requires_grad=True).double()"
      ]
    },
    {
      "cell_type": "code",
      "execution_count": 9,
      "metadata": {
        "colab": {
          "base_uri": "https://localhost:8080/"
        },
        "id": "N0jsyeH_VyD1",
        "outputId": "aed38bab-36f3-4948-8b0d-cdcf9c6d0e0d"
      },
      "outputs": [
        {
          "data": {
            "text/plain": [
              "19"
            ]
          },
          "execution_count": 9,
          "metadata": {},
          "output_type": "execute_result"
        }
      ],
      "source": [
        "mlp = nn.Sequential(  \n",
        "  LegendreBlock(n_input, 16),\n",
        "  nn.Linear(16, n_output)\n",
        ").double()\n",
        "\n",
        "\n",
        "pytorch_total_params = sum(p.numel() for p in mlp.parameters() if p.requires_grad)\n",
        "pytorch_total_params"
      ]
    },
    {
      "cell_type": "code",
      "execution_count": 10,
      "metadata": {
        "id": "5MjbANFiiS_h"
      },
      "outputs": [],
      "source": [
        "if GPU_MODE:\n",
        "  mlp.to('cuda:0')"
      ]
    },
    {
      "cell_type": "code",
      "execution_count": 11,
      "metadata": {
        "id": "O7fJt8lWVyD3"
      },
      "outputs": [],
      "source": [
        "def get_loss(x, ret_res=False):\n",
        "  y = mlp(x)\n",
        "  y_x = dy_dx(y, x)\n",
        "  y_xx = dy_dx(y_x, x)\n",
        "  y_xxx = dy_dx(y_xx, x)\n",
        "\n",
        "\n",
        "  \"\"\"    \n",
        "  Generall Falkner-Skan Eq.: \n",
        "    f''' + α ff'' + β(1 - (f')^2) = 0 ,\n",
        "    f(0) = f'(0) = 0, f'(∞) = 1\n",
        "  \n",
        "  Homann Flow = (α, β) = (2, 1)  \n",
        "  \"\"\"\n",
        "  alpha = 2\n",
        "  beta = 1\n",
        "\n",
        "  residual = (y_xxx) + (alpha * y_xx * y) + (beta * (1 - y_x**2))\n",
        "\n",
        "\n",
        "  # boundaries same for all equations\n",
        "  boundary1 = y[0]\n",
        "  boundary2 = y_x[0]\n",
        "  boundary3 = y_x[-1] - 1\n",
        "\n",
        "  loss = (residual**2).mean() + boundary1**2 + boundary2**2 + boundary3**2\n",
        "  return (loss, residual) if ret_res else loss"
      ]
    },
    {
      "cell_type": "code",
      "execution_count": 12,
      "metadata": {
        "id": "2H9IZlCQVyD4"
      },
      "outputs": [],
      "source": [
        "def closure():\n",
        "  loss = get_loss(x)\n",
        "  optimizer.zero_grad()\n",
        "  loss.backward()\n",
        "  return loss"
      ]
    },
    {
      "cell_type": "code",
      "execution_count": 13,
      "metadata": {
        "colab": {
          "base_uri": "https://localhost:8080/"
        },
        "id": "9bOqRqaiVyD5",
        "outputId": "5d6230bc-b68d-4a15-8037-b7502aa9aabb"
      },
      "outputs": [
        {
          "name": "stdout",
          "output_type": "stream",
          "text": [
            "Step: 000 loss = 00012.4102512127\n",
            "Step: 002 loss = 00005.9356055314\n",
            "Step: 004 loss = 00003.7653164648\n",
            "Step: 006 loss = 00001.9403460795\n",
            "Step: 008 loss = 00001.5113232739\n",
            "Step: 010 loss = 00001.5213850682\n",
            "Step: 012 loss = 00001.5115711970\n",
            "Step: 014 loss = 00001.4493725724\n",
            "Step: 016 loss = 00001.3716196789\n",
            "Step: 018 loss = 00001.2810280602\n",
            "Step: 020 loss = 00001.1724793691\n",
            "Step: 022 loss = 00001.0603390437\n",
            "Step: 024 loss = 00000.9606681846\n",
            "Step: 026 loss = 00000.8697934717\n",
            "Step: 028 loss = 00000.7723694808\n",
            "Step: 030 loss = 00000.6643343583\n",
            "Step: 032 loss = 00000.5621796822\n",
            "Step: 034 loss = 00000.4920084819\n",
            "Step: 036 loss = 00000.4626164768\n",
            "Step: 038 loss = 00000.4472949942\n",
            "Step: 040 loss = 00000.4188602520\n",
            "Step: 042 loss = 00000.3891087077\n",
            "Step: 044 loss = 00000.3753184997\n",
            "Step: 046 loss = 00000.3697521801\n",
            "Step: 048 loss = 00000.3583094229\n",
            "Step: 050 loss = 00000.3391847518\n",
            "Step: 052 loss = 00000.3212812596\n",
            "Step: 054 loss = 00000.3088355057\n",
            "Step: 056 loss = 00000.2948783871\n",
            "Step: 058 loss = 00000.2781988144\n",
            "Step: 060 loss = 00000.2649841735\n",
            "Step: 062 loss = 00000.2546726274\n",
            "Step: 064 loss = 00000.2438425805\n",
            "Step: 066 loss = 00000.2335832540\n",
            "Step: 068 loss = 00000.2248112913\n",
            "Step: 070 loss = 00000.2153686203\n",
            "Step: 072 loss = 00000.2056002397\n",
            "Step: 074 loss = 00000.1965964564\n",
            "Step: 076 loss = 00000.1874270052\n",
            "Step: 078 loss = 00000.1785856010\n",
            "Step: 080 loss = 00000.1710325716\n",
            "Step: 082 loss = 00000.1638675383\n",
            "Step: 084 loss = 00000.1570547500\n",
            "Step: 086 loss = 00000.1512051168\n",
            "Step: 088 loss = 00000.1455483321\n",
            "Step: 090 loss = 00000.1400360506\n",
            "Step: 092 loss = 00000.1352337941\n",
            "Step: 094 loss = 00000.1307518970\n",
            "Step: 096 loss = 00000.1265993755\n",
            "Step: 098 loss = 00000.1230532006\n",
            "Step: 100 loss = 00000.1197569409\n",
            "Step: 102 loss = 00000.0964832588\n",
            "Step: 104 loss = 00000.0653552651\n",
            "Step: 106 loss = 00000.0453462247\n",
            "Step: 108 loss = 00000.0337584459\n",
            "Step: 110 loss = 00000.0261357126\n",
            "Step: 112 loss = 00000.0207881276\n",
            "Step: 114 loss = 00000.0169818236\n",
            "Step: 116 loss = 00000.0127992799\n",
            "Step: 118 loss = 00000.0092020879\n",
            "Step: 120 loss = 00000.0070257987\n",
            "Step: 122 loss = 00000.0057218004\n",
            "Step: 124 loss = 00000.0048637515\n",
            "Step: 126 loss = 00000.0042859676\n",
            "Step: 128 loss = 00000.0038930766\n",
            "Step: 130 loss = 00000.0035792946\n",
            "Step: 132 loss = 00000.0033051254\n",
            "Step: 134 loss = 00000.0030385844\n",
            "Step: 136 loss = 00000.0027298812\n",
            "Step: 138 loss = 00000.0024815686\n",
            "Step: 140 loss = 00000.0022282008\n",
            "Step: 142 loss = 00000.0019076705\n",
            "Step: 144 loss = 00000.0016350214\n",
            "Step: 146 loss = 00000.0014256397\n",
            "Step: 148 loss = 00000.0011824531\n",
            "Step: 150 loss = 00000.0008815201\n",
            "Step: 152 loss = 00000.0006059552\n",
            "Step: 154 loss = 00000.0004232070\n",
            "Step: 156 loss = 00000.0003207957\n",
            "Step: 158 loss = 00000.0002617015\n",
            "Step: 160 loss = 00000.0002289448\n",
            "Step: 162 loss = 00000.0002123444\n",
            "Step: 164 loss = 00000.0002052393\n",
            "Step: 166 loss = 00000.0002022917\n",
            "Step: 168 loss = 00000.0002010096\n",
            "Step: 170 loss = 00000.0002004700\n",
            "Step: 172 loss = 00000.0002002379\n",
            "Step: 174 loss = 00000.0002001423\n",
            "Step: 176 loss = 00000.0002001184\n",
            "Step: 178 loss = 00000.0002001165\n",
            "Step: 180 loss = 00000.0002001148\n",
            "Step: 182 loss = 00000.0002001131\n",
            "Step: 184 loss = 00000.0002001114\n",
            "Step: 186 loss = 00000.0002001099\n",
            "Step: 188 loss = 00000.0002001084\n",
            "Step: 190 loss = 00000.0002001069\n",
            "Step: 192 loss = 00000.0002001056\n",
            "Step: 194 loss = 00000.0002001043\n",
            "Step: 196 loss = 00000.0002001030\n",
            "Step: 198 loss = 00000.0002001018\n",
            "Step: 200 loss = 00000.0002001007\n",
            "Step: 202 loss = 00000.0002000996\n",
            "Step: 204 loss = 00000.0002000985\n",
            "Step: 206 loss = 00000.0002000975\n",
            "Step: 208 loss = 00000.0002000966\n",
            "Step: 210 loss = 00000.0002000956\n",
            "Step: 212 loss = 00000.0002000948\n",
            "Step: 214 loss = 00000.0002000939\n",
            "Step: 216 loss = 00000.0002000931\n",
            "Step: 218 loss = 00000.0002000923\n",
            "Step: 220 loss = 00000.0002000916\n",
            "Step: 222 loss = 00000.0002000909\n",
            "Step: 224 loss = 00000.0002000902\n",
            "Step: 226 loss = 00000.0002000895\n",
            "Step: 228 loss = 00000.0002000889\n",
            "Step: 230 loss = 00000.0002000883\n",
            "Step: 232 loss = 00000.0002000877\n",
            "Step: 234 loss = 00000.0002000872\n",
            "Step: 236 loss = 00000.0002000866\n",
            "Step: 238 loss = 00000.0002000861\n",
            "Step: 240 loss = 00000.0002000857\n",
            "Step: 242 loss = 00000.0002000852\n",
            "Step: 244 loss = 00000.0002000847\n",
            "Step: 246 loss = 00000.0002000843\n",
            "Step: 248 loss = 00000.0002000839\n",
            "Step: 250 loss = 00000.0002000835\n",
            "Step: 252 loss = 00000.0002000831\n",
            "Step: 254 loss = 00000.0002000828\n",
            "Step: 256 loss = 00000.0002000824\n",
            "Step: 258 loss = 00000.0002000821\n",
            "Step: 260 loss = 00000.0002000818\n",
            "Step: 262 loss = 00000.0002000814\n",
            "Step: 264 loss = 00000.0002000811\n",
            "Step: 266 loss = 00000.0002000809\n",
            "Step: 268 loss = 00000.0002000806\n",
            "Step: 270 loss = 00000.0002000803\n",
            "Step: 272 loss = 00000.0002000801\n",
            "Step: 274 loss = 00000.0002000798\n",
            "Step: 276 loss = 00000.0002000796\n",
            "Step: 278 loss = 00000.0002000794\n",
            "Step: 280 loss = 00000.0002000792\n",
            "Step: 282 loss = 00000.0002000790\n",
            "Step: 284 loss = 00000.0002000788\n",
            "Step: 286 loss = 00000.0002000786\n",
            "Step: 288 loss = 00000.0002000784\n",
            "Step: 290 loss = 00000.0002000782\n",
            "Step: 292 loss = 00000.0002000780\n",
            "Step: 294 loss = 00000.0002000779\n",
            "Step: 296 loss = 00000.0002000777\n",
            "Step: 298 loss = 00000.0002000776\n",
            "Step: 300 loss = 00000.0002000774\n",
            "Step: 302 loss = 00000.0002000773\n",
            "Step: 304 loss = 00000.0002000771\n",
            "Step: 306 loss = 00000.0002000770\n",
            "Step: 308 loss = 00000.0002000769\n",
            "Step: 310 loss = 00000.0002000768\n",
            "Step: 312 loss = 00000.0002000767\n",
            "Step: 314 loss = 00000.0002000765\n",
            "Step: 316 loss = 00000.0002000764\n",
            "Step: 318 loss = 00000.0002000763\n",
            "Step: 320 loss = 00000.0002000762\n",
            "converged\n",
            "Final loss = 2.00e-04\n"
          ]
        }
      ],
      "source": [
        "#TODO\n",
        "optimizer = optim.Adam(list(mlp.parameters()), lr=0.05, betas=(0.9, 0.999), eps=1e-32)\n",
        "previous = 0\n",
        "losses = []\n",
        "epoch_Adam = 100\n",
        "epoch_LBFGS = 10000\n",
        "for i in range(epoch_Adam):\n",
        "  loss = get_loss(x)\n",
        "  \n",
        "  if i % 2 == 0:        \n",
        "    print('Step: %03d loss = %016.10f' % (i, loss))        \n",
        "  \n",
        "  \n",
        "  optimizer.zero_grad()\n",
        "  loss.backward()\n",
        "  optimizer.step()\n",
        "\n",
        "  losses.append(loss.detach().cpu().numpy())\n",
        "\n",
        "\n",
        "optimizer = optim.LBFGS(list(mlp.parameters()), lr = 0.01)\n",
        "previous = 0\n",
        "for i in range(epoch_LBFGS):\n",
        "  loss = get_loss(x)\n",
        "  if i % 2 == 0:        \n",
        "    print('Step: %03d loss = %016.10f' % (i+epoch_Adam, loss))\n",
        "    if abs(previous - loss) < 1e-10:\n",
        "        print('converged')\n",
        "        break\n",
        "    \n",
        "    previous = loss\n",
        "  \n",
        "  losses.append(loss.detach().cpu().numpy())\n",
        "  optimizer.step(closure)\n",
        "\n",
        "print(\"Final loss = %.2e\" % get_loss(x))"
      ]
    },
    {
      "cell_type": "code",
      "execution_count": 15,
      "metadata": {
        "colab": {
          "base_uri": "https://localhost:8080/"
        },
        "id": "zdmgRC0AVyD6",
        "outputId": "e1b4e2cb-63ae-48cc-b2b9-2dcf2d340a7a"
      },
      "outputs": [
        {
          "name": "stdout",
          "output_type": "stream",
          "text": [
            "f''(0) = 1.3123043247236872\n"
          ]
        }
      ],
      "source": [
        "# calculate f''(0)\n",
        "# # make zero Tensor from x Tensor\n",
        "zerox = x.clone()\n",
        "zerox[0][0] = 0\n",
        "f_xx_0 = d2y_dx2(mlp(zerox), zerox)[0]\n",
        "print(\"f''(0) = {}\".format(f_xx_0[0]))\n",
        "\n",
        "\n",
        "#  Standard = 1.3119377173"
      ]
    },
    {
      "cell_type": "code",
      "execution_count": null,
      "metadata": {
        "colab": {
          "base_uri": "https://localhost:8080/",
          "height": 334
        },
        "id": "1i9w6wQuVyD8",
        "outputId": "69fcb7b6-e87a-4db8-e672-ddbcdf14ca27"
      },
      "outputs": [],
      "source": [
        "mlp.to('cpu')\n",
        "plt.figure(figsize=(10, 5))\n",
        "domain = x.cpu().detach().numpy().flatten()\n",
        "\n",
        "res= get_loss(x.cpu(), ret_res=True)[1].detach().numpy()\n",
        "plt.xlabel('x')\n",
        "plt.ylabel('Residual')\n",
        "plt.plot(domain, res)\n",
        "plt.savefig('residual-loss.eps', bbox_inches='tight', format='eps')"
      ]
    },
    {
      "cell_type": "code",
      "execution_count": null,
      "metadata": {
        "colab": {
          "base_uri": "https://localhost:8080/",
          "height": 334
        },
        "id": "A4TEZCiWVyD9",
        "outputId": "ab8f7c75-2e1e-4911-c605-55e52653de88"
      },
      "outputs": [],
      "source": [
        "plt.figure(figsize=(10, 5))\n",
        "plt.plot(np.log(losses))\n",
        "plt.xlabel('epoch')\n",
        "plt.ylabel('log(loss)')\n",
        "\n",
        "plt.savefig('loss.eps', bbox_inches='tight', format='eps')"
      ]
    },
    {
      "cell_type": "code",
      "execution_count": null,
      "metadata": {},
      "outputs": [],
      "source": []
    }
  ],
  "metadata": {
    "accelerator": "GPU",
    "colab": {
      "name": "ode_legendre_chebyshev (1).ipynb",
      "provenance": []
    },
    "kernelspec": {
      "display_name": "Python 3.10.6 ('venv': venv)",
      "language": "python",
      "name": "python3"
    },
    "language_info": {
      "codemirror_mode": {
        "name": "ipython",
        "version": 3
      },
      "file_extension": ".py",
      "mimetype": "text/x-python",
      "name": "python",
      "nbconvert_exporter": "python",
      "pygments_lexer": "ipython3",
      "version": "3.10.6"
    },
    "orig_nbformat": 4,
    "vscode": {
      "interpreter": {
        "hash": "8c6a7a98d988520ca49873c8c8a84fc603de93e0e51e3f6cf3504553200cd803"
      }
    }
  },
  "nbformat": 4,
  "nbformat_minor": 0
}
