{
 "cells": [
  {
   "cell_type": "code",
   "execution_count": 1,
   "metadata": {},
   "outputs": [
    {
     "name": "stderr",
     "output_type": "stream",
     "text": [
      "2022-05-06 16:13:17.460390: W tensorflow/stream_executor/platform/default/dso_loader.cc:64] Could not load dynamic library 'libcudart.so.11.0'; dlerror: libcudart.so.11.0: cannot open shared object file: No such file or directory\n",
      "2022-05-06 16:13:17.460415: I tensorflow/stream_executor/cuda/cudart_stub.cc:29] Ignore above cudart dlerror if you do not have a GPU set up on your machine.\n"
     ]
    }
   ],
   "source": [
    "import torch\n",
    "import numpy as np\n",
    "import torch.optim as optim\n",
    "from torch.autograd import Variable\n",
    "from torch import randn\n",
    "import matplotlib.pyplot as plt\n",
    "import seaborn as sns\n",
    "from torch import nn\n",
    "\n",
    "import random, os\n",
    "from sklearn.metrics import mean_squared_error, mean_absolute_error\n",
    "import pandas as pd\n",
    "\n",
    "from orthnet import Legendre, Chebyshev\n",
    "\n",
    "%matplotlib inline"
   ]
  },
  {
   "cell_type": "code",
   "execution_count": 2,
   "metadata": {},
   "outputs": [],
   "source": [
    "def seed_everything(seed: int):\n",
    "    random.seed(seed)\n",
    "    os.environ['PYTHONHASHSEED'] = str(seed)\n",
    "    np.random.seed(seed)\n",
    "    torch.manual_seed(seed)\n",
    "    torch.cuda.manual_seed(seed)\n",
    "    torch.backends.cudnn.deterministic = True\n",
    "    torch.backends.cudnn.benchmark = True\n",
    "    \n",
    "seed_everything(42)"
   ]
  },
  {
   "cell_type": "code",
   "execution_count": 3,
   "metadata": {},
   "outputs": [],
   "source": [
    "class LegendreActivation(nn.Module):\n",
    "    def __init__(self,degree):\n",
    "        super().__init__()\n",
    "        self.degree = degree\n",
    "        self.data = None\n",
    "        \n",
    "        self.D = torch.zeros((degree , degree )) \n",
    "        for i in range(degree):\n",
    "          for j in range(0 , i):\n",
    "            if (i + j) % 2 == 1:\n",
    "              self.D[i, j] = 2 * (j + 1) - 1\n",
    "    \n",
    "    def forward(self, X):              \n",
    "      data = Legendre(X, self.degree).tensor\n",
    "      self.data = data\n",
    "      return data\n",
    "\n",
    "    def backward(self,):\n",
    "      return (self.D @ (self.data).T).T\n",
    "\n",
    "\n",
    "class LegendreBlock(nn.Module):\n",
    "    def __init__(self, n_input, degree):        \n",
    "        super().__init__()\n",
    "        self.degree = degree - 1\n",
    "        self.n_input = n_input\n",
    "        self.linear = nn.Linear(self.n_input, 1).double()\n",
    "        self.tanh = nn.Tanh().double()\n",
    "        self.Legendre = LegendreActivation(self.degree)\n",
    "\n",
    "    def forward(self, X):      \n",
    "      X = self.tanh(self.linear(X))      \n",
    "      data = self.Legendre(X)\n",
    "      return data\n",
    "\n",
    "class ChebyshevActivation(nn.Module):\n",
    "    def __init__(self,degree):\n",
    "        super().__init__()\n",
    "        self.degree = degree\n",
    "        self.data = None\n",
    "        \n",
    "        self.D = torch.zeros((degree , degree )) \n",
    "        for i in range(degree):\n",
    "          for j in range(0 ,i):\n",
    "            if (i+j) % 2 == 1:\n",
    "              self.D[i, j] = 2 * i\n",
    "              if j == 0:\n",
    "                self.D[i, j] = self.D[i, j]/2.0\n",
    "    def forward(self, X):              \n",
    "      data = Chebyshev(X, self.degree).tensor\n",
    "      self.data = data\n",
    "      return data\n",
    "\n",
    "    def backward(self,):\n",
    "      return (self.D @ (self.data).T).T\n",
    "\n",
    "class ChebyshevBlock(nn.Module):\n",
    "    def __init__(self, n_input, degree):        \n",
    "        super().__init__()\n",
    "        self.degree = degree - 1\n",
    "        \n",
    "        self.n_input = n_input\n",
    "        self.linear = nn.Linear(self.n_input, 1).double()\n",
    "        self.tanh = nn.Tanh().double()\n",
    "        self.Chebyshev = ChebyshevActivation(self.degree)\n",
    "\n",
    "\n",
    "    def forward(self, X):      \n",
    "      X = self.tanh(self.linear(X))      \n",
    "      data = self.Chebyshev(X)\n",
    "      \n",
    "      return data"
   ]
  },
  {
   "cell_type": "code",
   "execution_count": 4,
   "metadata": {},
   "outputs": [],
   "source": [
    "def dy_dx(y, x):\n",
    "  return torch.autograd.grad(y, x, grad_outputs=torch.ones_like(y), create_graph=True)[0]\n",
    "\n",
    "def d2y_dx2(y, x):\n",
    "  return dy_dx(dy_dx(y,x), x)\n",
    "\n",
    "def d3y_dx3(y, x):\n",
    "  return dy_dx(d2y_dx2(y,x), x)"
   ]
  },
  {
   "cell_type": "code",
   "execution_count": 5,
   "metadata": {},
   "outputs": [],
   "source": [
    "domain = [0, 1]\n",
    "n_discretization = 300 * domain[1] - domain[0]"
   ]
  },
  {
   "cell_type": "code",
   "execution_count": 6,
   "metadata": {},
   "outputs": [],
   "source": [
    "n_input = 1\n",
    "n_output = 1\n",
    "eps = 1e-10"
   ]
  },
  {
   "cell_type": "code",
   "execution_count": 7,
   "metadata": {},
   "outputs": [],
   "source": [
    "x = torch.linspace(domain[0] + eps, domain[1] - eps, n_discretization, dtype=torch.double).reshape(-1,1)\n",
    "x = Variable(x, requires_grad=True).double()"
   ]
  },
  {
   "cell_type": "code",
   "execution_count": 8,
   "metadata": {},
   "outputs": [
    {
     "data": {
      "text/plain": [
       "19747"
      ]
     },
     "execution_count": 8,
     "metadata": {},
     "output_type": "execute_result"
    }
   ],
   "source": [
    "mlp = nn.Sequential(  \n",
    "  LegendreBlock(n_input, 32),\n",
    "  nn.Linear(32, 64),\n",
    "  nn.Tanh(),\n",
    "  nn.Linear(64, 128),\n",
    "  nn.Tanh(),\n",
    "  nn.Linear(128, 64),\n",
    "  nn.Tanh(),\n",
    "  nn.Linear(64, 16),\n",
    "  nn.Linear(16, n_output)\n",
    ").double()\n",
    "\n",
    "\n",
    "pytorch_total_params = sum(p.numel() for p in mlp.parameters() if p.requires_grad)\n",
    "pytorch_total_params"
   ]
  },
  {
   "cell_type": "code",
   "execution_count": 9,
   "metadata": {},
   "outputs": [],
   "source": [
    "def get_loss(x, ret_res=False):\n",
    "  y = mlp(x)\n",
    "  y_x = dy_dx(y, x)\n",
    "  y_xx = dy_dx(y_x, x)\n",
    "  y_xxx = dy_dx(y_xx, x)\n",
    "\n",
    "\n",
    "  \"\"\"    \n",
    "  Blasius Eq.: \n",
    "   f''' + 0.5 ff'' = 0\n",
    "   2f''' + ff'' = 0   ,   f(0) = f'(0) = 0, f'(∞) = 1\n",
    "  \"\"\"\n",
    "  \n",
    "  residual = (2 * y_xxx) + (y_xx * y)\n",
    "\n",
    "\n",
    "  # boundaries same for all equations\n",
    "  boundary1 = y[0]\n",
    "  boundary2 = y_x[0]\n",
    "  boundary3 = y_x[-1] - 1\n",
    "\n",
    "  loss = (residual**2).mean() + boundary1**2 + boundary2**2 + boundary3**2\n",
    "  return (loss, residual) if ret_res else loss"
   ]
  },
  {
   "cell_type": "code",
   "execution_count": 10,
   "metadata": {},
   "outputs": [],
   "source": [
    "def closure():\n",
    "  loss = get_loss(x)\n",
    "  optimizer.zero_grad()\n",
    "  loss.backward()\n",
    "  return loss"
   ]
  },
  {
   "cell_type": "code",
   "execution_count": 11,
   "metadata": {},
   "outputs": [
    {
     "name": "stdout",
     "output_type": "stream",
     "text": [
      "Step: 000 loss = 00180.0379095746\n",
      "Step: 002 loss = 00586.8096136031\n",
      "Step: 004 loss = 00334.6671415241\n",
      "Step: 006 loss = 00401.6336906862\n",
      "Step: 008 loss = 00362.2230419941\n",
      "Step: 010 loss = 00161.9234985886\n",
      "Step: 012 loss = 00240.0251285601\n",
      "Step: 014 loss = 00088.2184942779\n",
      "Step: 016 loss = 00027.9505791457\n",
      "Step: 018 loss = 00049.1578933826\n",
      "Step: 020 loss = 00028.7592823269\n",
      "Step: 022 loss = 00010.4516637027\n",
      "Step: 024 loss = 00018.4362475583\n",
      "Step: 026 loss = 00024.1929561067\n",
      "Step: 028 loss = 00012.7569366045\n",
      "Step: 030 loss = 00004.0625146629\n",
      "Step: 032 loss = 00005.2438046331\n",
      "Step: 034 loss = 00007.9016627215\n",
      "Step: 036 loss = 00006.4649491645\n",
      "Step: 038 loss = 00003.1040352577\n",
      "Step: 040 loss = 00001.4823550185\n",
      "Step: 042 loss = 00002.1519775448\n",
      "Step: 044 loss = 00003.3058778977\n",
      "Step: 046 loss = 00003.3502295687\n",
      "Step: 048 loss = 00002.3937158060\n",
      "Step: 050 loss = 00001.4946384588\n",
      "Step: 052 loss = 00001.2522692671\n",
      "Step: 054 loss = 00001.4770833042\n",
      "Step: 056 loss = 00001.6963480856\n",
      "Step: 058 loss = 00001.6548557885\n",
      "Step: 060 loss = 00001.4297728441\n",
      "Step: 062 loss = 00001.2333759572\n",
      "Step: 064 loss = 00001.1839149681\n",
      "Step: 066 loss = 00001.2394376329\n",
      "Step: 068 loss = 00001.2871027556\n",
      "Step: 070 loss = 00001.2626332972\n",
      "Step: 072 loss = 00001.1897311656\n",
      "Step: 074 loss = 00001.1302253436\n",
      "Step: 076 loss = 00001.1177428176\n",
      "Step: 078 loss = 00001.1378532855\n",
      "Step: 080 loss = 00001.1552010196\n",
      "Step: 082 loss = 00001.1490370684\n",
      "Step: 084 loss = 00001.1253567795\n",
      "Step: 086 loss = 00001.1032188634\n",
      "Step: 088 loss = 00001.0945636930\n",
      "Step: 090 loss = 00001.0964175921\n",
      "Step: 092 loss = 00001.0983843187\n",
      "Step: 094 loss = 00001.0942565639\n",
      "Step: 096 loss = 00001.0861319627\n",
      "Step: 098 loss = 00001.0796132546\n",
      "Step: 100 loss = 00001.0773192718\n",
      "Step: 102 loss = 00001.0534457585\n",
      "Step: 104 loss = 00000.9969242012\n",
      "Step: 106 loss = 00000.8926958003\n",
      "Step: 108 loss = 00000.7589307817\n",
      "Step: 110 loss = 00000.6110623015\n",
      "Step: 112 loss = 00000.4432153480\n",
      "Step: 114 loss = 00000.2627914471\n",
      "Step: 116 loss = 00000.1315461419\n",
      "Step: 118 loss = 00000.0597799740\n",
      "Step: 120 loss = 00000.0275949257\n",
      "Step: 122 loss = 00000.0128430622\n",
      "Step: 124 loss = 00000.0060240208\n",
      "Step: 126 loss = 00000.0029234079\n",
      "Step: 128 loss = 00000.0015485652\n",
      "Step: 130 loss = 00000.0009099601\n",
      "Step: 132 loss = 00000.0006066455\n",
      "Step: 134 loss = 00000.0004437146\n",
      "Step: 136 loss = 00000.0003045375\n",
      "Step: 138 loss = 00000.0002011227\n",
      "Step: 140 loss = 00000.0001375841\n",
      "Step: 142 loss = 00000.0001023420\n",
      "Step: 144 loss = 00000.0000817449\n",
      "Step: 146 loss = 00000.0000694741\n",
      "Step: 148 loss = 00000.0000619630\n",
      "Step: 150 loss = 00000.0000566103\n",
      "Step: 152 loss = 00000.0000523990\n",
      "Step: 154 loss = 00000.0000479667\n",
      "Step: 156 loss = 00000.0000371862\n",
      "Step: 158 loss = 00000.0000250567\n",
      "Step: 160 loss = 00000.0000136053\n",
      "Step: 162 loss = 00000.0000074308\n",
      "Step: 164 loss = 00000.0000045283\n",
      "Step: 166 loss = 00000.0000031301\n",
      "Step: 168 loss = 00000.0000024685\n",
      "Step: 170 loss = 00000.0000021598\n",
      "Step: 172 loss = 00000.0000020258\n",
      "Step: 174 loss = 00000.0000019684\n",
      "Step: 176 loss = 00000.0000019665\n",
      "Step: 178 loss = 00000.0000019646\n",
      "Step: 180 loss = 00000.0000019629\n",
      "Step: 182 loss = 00000.0000019611\n",
      "Step: 184 loss = 00000.0000019595\n",
      "Step: 186 loss = 00000.0000019579\n",
      "Step: 188 loss = 00000.0000019563\n",
      "Step: 190 loss = 00000.0000019549\n",
      "Step: 192 loss = 00000.0000019534\n",
      "Step: 194 loss = 00000.0000019520\n",
      "Step: 196 loss = 00000.0000019507\n",
      "Step: 198 loss = 00000.0000019494\n",
      "Step: 200 loss = 00000.0000019481\n",
      "Step: 202 loss = 00000.0000019469\n",
      "Step: 204 loss = 00000.0000019457\n",
      "Step: 206 loss = 00000.0000019446\n",
      "Step: 208 loss = 00000.0000019435\n",
      "Step: 210 loss = 00000.0000019425\n",
      "Step: 212 loss = 00000.0000019414\n",
      "Step: 214 loss = 00000.0000019404\n",
      "Step: 216 loss = 00000.0000019395\n",
      "Step: 218 loss = 00000.0000019385\n",
      "Step: 220 loss = 00000.0000019376\n",
      "Step: 222 loss = 00000.0000019367\n",
      "Step: 224 loss = 00000.0000019359\n",
      "Step: 226 loss = 00000.0000019351\n",
      "Step: 228 loss = 00000.0000019343\n",
      "Step: 230 loss = 00000.0000019335\n",
      "Step: 232 loss = 00000.0000019327\n",
      "Step: 234 loss = 00000.0000019320\n",
      "Step: 236 loss = 00000.0000019313\n",
      "Step: 238 loss = 00000.0000019306\n",
      "Step: 240 loss = 00000.0000019299\n",
      "Step: 242 loss = 00000.0000019293\n",
      "Step: 244 loss = 00000.0000019286\n",
      "Step: 246 loss = 00000.0000019280\n",
      "Step: 248 loss = 00000.0000019274\n",
      "Step: 250 loss = 00000.0000019268\n",
      "Step: 252 loss = 00000.0000019263\n",
      "Step: 254 loss = 00000.0000019257\n",
      "Step: 256 loss = 00000.0000019252\n",
      "Step: 258 loss = 00000.0000019246\n",
      "Step: 260 loss = 00000.0000019241\n",
      "Step: 262 loss = 00000.0000019236\n",
      "Step: 264 loss = 00000.0000019232\n",
      "Step: 266 loss = 00000.0000019227\n",
      "Step: 268 loss = 00000.0000019222\n",
      "Step: 270 loss = 00000.0000019218\n",
      "Step: 272 loss = 00000.0000019213\n",
      "Step: 274 loss = 00000.0000019209\n",
      "Step: 276 loss = 00000.0000019205\n",
      "Step: 278 loss = 00000.0000019201\n",
      "Step: 280 loss = 00000.0000019197\n",
      "Step: 282 loss = 00000.0000019193\n",
      "Step: 284 loss = 00000.0000019189\n",
      "Step: 286 loss = 00000.0000019186\n",
      "Step: 288 loss = 00000.0000019182\n",
      "Step: 290 loss = 00000.0000019179\n",
      "Step: 292 loss = 00000.0000019175\n",
      "Step: 294 loss = 00000.0000019172\n",
      "Step: 296 loss = 00000.0000019169\n",
      "Step: 298 loss = 00000.0000019166\n",
      "Step: 300 loss = 00000.0000019163\n",
      "Step: 302 loss = 00000.0000019160\n",
      "Step: 304 loss = 00000.0000019157\n",
      "Step: 306 loss = 00000.0000019154\n",
      "Step: 308 loss = 00000.0000019151\n",
      "Step: 310 loss = 00000.0000019148\n",
      "Step: 312 loss = 00000.0000019146\n",
      "Step: 314 loss = 00000.0000019143\n",
      "Step: 316 loss = 00000.0000019140\n",
      "Step: 318 loss = 00000.0000019138\n",
      "Step: 320 loss = 00000.0000019136\n",
      "Step: 322 loss = 00000.0000019133\n",
      "Step: 324 loss = 00000.0000019131\n",
      "Step: 326 loss = 00000.0000019129\n",
      "Step: 328 loss = 00000.0000019126\n",
      "Step: 330 loss = 00000.0000019124\n",
      "Step: 332 loss = 00000.0000019122\n",
      "Step: 334 loss = 00000.0000019120\n",
      "Step: 336 loss = 00000.0000019118\n",
      "Step: 338 loss = 00000.0000019116\n",
      "Step: 340 loss = 00000.0000019114\n",
      "Step: 342 loss = 00000.0000019112\n",
      "Step: 344 loss = 00000.0000019110\n",
      "Step: 346 loss = 00000.0000019109\n",
      "Step: 348 loss = 00000.0000019107\n",
      "Step: 350 loss = 00000.0000019105\n",
      "Step: 352 loss = 00000.0000019103\n",
      "Step: 354 loss = 00000.0000019102\n",
      "Step: 356 loss = 00000.0000019100\n",
      "Step: 358 loss = 00000.0000019098\n",
      "Step: 360 loss = 00000.0000019097\n",
      "Step: 362 loss = 00000.0000019095\n",
      "Step: 364 loss = 00000.0000019094\n",
      "Step: 366 loss = 00000.0000019092\n",
      "Step: 368 loss = 00000.0000019091\n",
      "Step: 370 loss = 00000.0000019090\n",
      "Step: 372 loss = 00000.0000019088\n",
      "Step: 374 loss = 00000.0000019087\n",
      "Step: 376 loss = 00000.0000019085\n",
      "Step: 378 loss = 00000.0000019084\n",
      "Step: 380 loss = 00000.0000019083\n",
      "Step: 382 loss = 00000.0000019082\n",
      "Step: 384 loss = 00000.0000019080\n",
      "Step: 386 loss = 00000.0000019079\n",
      "Step: 388 loss = 00000.0000019078\n",
      "Step: 390 loss = 00000.0000019077\n",
      "Step: 392 loss = 00000.0000019076\n",
      "Step: 394 loss = 00000.0000019075\n",
      "Step: 396 loss = 00000.0000019074\n",
      "Step: 398 loss = 00000.0000019073\n",
      "Step: 400 loss = 00000.0000019072\n",
      "Step: 402 loss = 00000.0000019071\n",
      "Step: 404 loss = 00000.0000019070\n",
      "converged\n",
      "Final loss = 1.91e-06\n"
     ]
    }
   ],
   "source": [
    "#TODO\n",
    "optimizer = optim.Adam(list(mlp.parameters()), lr=0.01, betas=(0.9, 0.999), eps=1e-32)\n",
    "previous = 0\n",
    "losses = []\n",
    "epoch_Adam = 100\n",
    "epoch_LBFGS = 2000\n",
    "for i in range(epoch_Adam):\n",
    "  loss = get_loss(x)\n",
    "  \n",
    "  if i % 2 == 0:        \n",
    "    print('Step: %03d loss = %016.10f' % (i, loss))        \n",
    "  \n",
    "  \n",
    "  optimizer.zero_grad()\n",
    "  loss.backward()\n",
    "  optimizer.step()\n",
    "\n",
    "  losses.append(loss.detach().numpy())\n",
    "\n",
    "\n",
    "optimizer = optim.LBFGS(list(mlp.parameters()), lr = 0.01)\n",
    "previous = 0\n",
    "for i in range(epoch_LBFGS):\n",
    "  loss = get_loss(x)\n",
    "  if i % 2 == 0:        \n",
    "    print('Step: %03d loss = %016.10f' % (i+epoch_Adam, loss))\n",
    "    if abs(previous - loss) < 1e-10:\n",
    "        print('converged')\n",
    "        break\n",
    "    \n",
    "    previous = loss\n",
    "  \n",
    "  losses.append(loss.detach().numpy())\n",
    "  optimizer.step(closure)\n",
    "\n",
    "print(\"Final loss = %.2e\" % get_loss(x))"
   ]
  },
  {
   "cell_type": "code",
   "execution_count": 12,
   "metadata": {},
   "outputs": [
    {
     "data": {
      "text/html": [
       "<div>\n",
       "<style scoped>\n",
       "    .dataframe tbody tr th:only-of-type {\n",
       "        vertical-align: middle;\n",
       "    }\n",
       "\n",
       "    .dataframe tbody tr th {\n",
       "        vertical-align: top;\n",
       "    }\n",
       "\n",
       "    .dataframe thead th {\n",
       "        text-align: right;\n",
       "    }\n",
       "</style>\n",
       "<table border=\"1\" class=\"dataframe\">\n",
       "  <thead>\n",
       "    <tr style=\"text-align: right;\">\n",
       "      <th></th>\n",
       "      <th>x</th>\n",
       "      <th>y</th>\n",
       "    </tr>\n",
       "  </thead>\n",
       "  <tbody>\n",
       "    <tr>\n",
       "      <th>0</th>\n",
       "      <td>0.0000000000000000</td>\n",
       "      <td>0.0000020987638605</td>\n",
       "    </tr>\n",
       "    <tr>\n",
       "      <th>1</th>\n",
       "      <td>0.1000000000000000</td>\n",
       "      <td>0.0051091348410182</td>\n",
       "    </tr>\n",
       "    <tr>\n",
       "      <th>2</th>\n",
       "      <td>0.2000000000000000</td>\n",
       "      <td>0.0204260800781857</td>\n",
       "    </tr>\n",
       "    <tr>\n",
       "      <th>3</th>\n",
       "      <td>0.5000000000000000</td>\n",
       "      <td>0.1275141158546214</td>\n",
       "    </tr>\n",
       "    <tr>\n",
       "      <th>4</th>\n",
       "      <td>1.0000000000000000</td>\n",
       "      <td>0.5063049713245480</td>\n",
       "    </tr>\n",
       "    <tr>\n",
       "      <th>5</th>\n",
       "      <td>1.5000000000000000</td>\n",
       "      <td>1.1068169825124685</td>\n",
       "    </tr>\n",
       "    <tr>\n",
       "      <th>6</th>\n",
       "      <td>2.0000000000000000</td>\n",
       "      <td>1.6007508413588343</td>\n",
       "    </tr>\n",
       "  </tbody>\n",
       "</table>\n",
       "</div>"
      ],
      "text/plain": [
       "                   x                  y\n",
       "0 0.0000000000000000 0.0000020987638605\n",
       "1 0.1000000000000000 0.0051091348410182\n",
       "2 0.2000000000000000 0.0204260800781857\n",
       "3 0.5000000000000000 0.1275141158546214\n",
       "4 1.0000000000000000 0.5063049713245480\n",
       "5 1.5000000000000000 1.1068169825124685\n",
       "6 2.0000000000000000 1.6007508413588343"
      ]
     },
     "execution_count": 12,
     "metadata": {},
     "output_type": "execute_result"
    }
   ],
   "source": [
    "pd.options.display.float_format = '{:.16f}'.format\n",
    "domain_test = torch.tensor([0.00,0.10,0.20,0.50,1.00,1.50,2.00], dtype=torch.double).reshape(-1,1)\n",
    "predict_test = mlp.forward(domain_test).detach().numpy().flatten()\n",
    "pd.DataFrame(np.array([domain_test.numpy().flatten(), predict_test]).T, columns=['x','y'])"
   ]
  },
  {
   "cell_type": "code",
   "execution_count": 13,
   "metadata": {},
   "outputs": [
    {
     "name": "stdout",
     "output_type": "stream",
     "text": [
      "f''(0) = 1.0211137237542938\n"
     ]
    }
   ],
   "source": [
    "# calculate f''(0)\n",
    "# # make zero Tensor from x Tensor\n",
    "zerox = x.clone()\n",
    "zerox[0][0] = 0\n",
    "f_xx_0 = d2y_dx2(mlp(zerox), zerox)[0]\n",
    "print(\"f''(0) = {}\".format(f_xx_0[0]))\n",
    "\n",
    "# history \n",
    "# f''(0) = 0.3325398571314273 \n",
    "# f''(0) = 0.3321312229973239"
   ]
  },
  {
   "cell_type": "code",
   "execution_count": 14,
   "metadata": {},
   "outputs": [
    {
     "data": {
      "text/plain": [
       "<matplotlib.legend.Legend at 0x7f7514f54460>"
      ]
     },
     "execution_count": 14,
     "metadata": {},
     "output_type": "execute_result"
    },
    {
     "data": {
      "image/png": "[encoded data removed]",
      "text/plain": [
       "<Figure size 720x360 with 1 Axes>"
      ]
     },
     "metadata": {
      "needs_background": "light"
     },
     "output_type": "display_data"
    }
   ],
   "source": [
    "#[TODO]\n",
    "domain = x.detach().numpy().flatten()\n",
    "# exact = (1 - x**2 / 6).detach().numpy().flatten()\n",
    "predict = mlp.forward(x).detach().numpy().flatten()\n",
    "\n",
    "plt.figure(figsize=(10, 5))\n",
    "plt.xlabel('x')\n",
    "plt.ylabel('y')\n",
    "\n",
    "# plt.plot(domain, exact,'k--', markersize=.1, label='Exact')\n",
    "plt.plot(domain, predict,'b.', markersize=1, label='Predict')\n",
    "plt.legend()\n",
    "\n",
    "# plt.savefig('exact-predict.eps', bbox_inches='tight', format='eps')"
   ]
  },
  {
   "cell_type": "code",
   "execution_count": 15,
   "metadata": {},
   "outputs": [
    {
     "data": {
      "image/png": "[encoded data removed]",
      "text/plain": [
       "<Figure size 720x360 with 1 Axes>"
      ]
     },
     "metadata": {
      "needs_background": "light"
     },
     "output_type": "display_data"
    }
   ],
   "source": [
    "plt.figure(figsize=(10, 5))\n",
    "\n",
    "res= get_loss(x, ret_res=True)[1].detach().numpy()\n",
    "plt.xlabel('x')\n",
    "plt.ylabel('Residual')\n",
    "plt.plot(domain, res)\n",
    "plt.savefig('residual-loss.eps', bbox_inches='tight', format='eps')"
   ]
  },
  {
   "cell_type": "code",
   "execution_count": 16,
   "metadata": {},
   "outputs": [
    {
     "data": {
      "image/png": "[encoded data removed]",
      "text/plain": [
       "<Figure size 720x360 with 1 Axes>"
      ]
     },
     "metadata": {
      "needs_background": "light"
     },
     "output_type": "display_data"
    }
   ],
   "source": [
    "plt.figure(figsize=(10, 5))\n",
    "plt.plot(np.log(losses))\n",
    "plt.xlabel('epoch')\n",
    "plt.ylabel('log(loss)')\n",
    "\n",
    "plt.savefig('loss.eps', bbox_inches='tight', format='eps')"
   ]
  },
  {
   "cell_type": "code",
   "execution_count": null,
   "metadata": {},
   "outputs": [],
   "source": []
  }
 ],
 "metadata": {
  "interpreter": {
   "hash": "e7370f93d1d0cde622a1f8e1c04877d8463912d04d973331ad4851f04de6915a"
  },
  "kernelspec": {
   "display_name": "Python 3.8.10 64-bit",
   "language": "python",
   "name": "python3"
  },
  "language_info": {
   "codemirror_mode": {
    "name": "ipython",
    "version": 3
   },
   "file_extension": ".py",
   "mimetype": "text/x-python",
   "name": "python",
   "nbconvert_exporter": "python",
   "pygments_lexer": "ipython3",
   "version": "3.8.10"
  },
  "orig_nbformat": 4
 },
 "nbformat": 4,
 "nbformat_minor": 2
}
